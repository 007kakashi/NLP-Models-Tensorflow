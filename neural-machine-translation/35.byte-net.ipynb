{
 "cells": [
  {
   "cell_type": "code",
   "execution_count": 1,
   "metadata": {},
   "outputs": [
    {
     "name": "stderr",
     "output_type": "stream",
     "text": [
      "/usr/local/lib/python3.5/dist-packages/h5py/__init__.py:36: FutureWarning: Conversion of the second argument of issubdtype from `float` to `np.floating` is deprecated. In future, it will be treated as `np.float64 == np.dtype(float).type`.\n",
      "  from ._conv import register_converters as _register_converters\n"
     ]
    }
   ],
   "source": [
    "import numpy as np\n",
    "import tensorflow as tf\n",
    "import collections"
   ]
  },
  {
   "cell_type": "code",
   "execution_count": 2,
   "metadata": {},
   "outputs": [],
   "source": [
    "def build_dataset(words, n_words):\n",
    "    count = [['GO', 0], ['PAD', 1], ['EOS', 2], ['UNK', 3]]\n",
    "    count.extend(collections.Counter(words).most_common(n_words - 1))\n",
    "    dictionary = dict()\n",
    "    for word, _ in count:\n",
    "        dictionary[word] = len(dictionary)\n",
    "    data = list()\n",
    "    unk_count = 0\n",
    "    for word in words:\n",
    "        index = dictionary.get(word, 0)\n",
    "        if index == 0:\n",
    "            unk_count += 1\n",
    "        data.append(index)\n",
    "    count[0][1] = unk_count\n",
    "    reversed_dictionary = dict(zip(dictionary.values(), dictionary.keys()))\n",
    "    return data, count, dictionary, reversed_dictionary"
   ]
  },
  {
   "cell_type": "code",
   "execution_count": 3,
   "metadata": {},
   "outputs": [
    {
     "name": "stdout",
     "output_type": "stream",
     "text": [
      "len from: 501, len to: 501\n"
     ]
    }
   ],
   "source": [
    "with open('english-train', 'r') as fopen:\n",
    "    text_from = fopen.read().lower().split('\\n')\n",
    "with open('vietnam-train', 'r') as fopen:\n",
    "    text_to = fopen.read().lower().split('\\n')\n",
    "print('len from: %d, len to: %d'%(len(text_from), len(text_to)))"
   ]
  },
  {
   "cell_type": "code",
   "execution_count": 4,
   "metadata": {},
   "outputs": [
    {
     "name": "stdout",
     "output_type": "stream",
     "text": [
      "vocab from size: 1935\n",
      "Most common words [(',', 564), ('.', 477), ('the', 368), ('and', 286), ('to', 242), ('of', 220)]\n",
      "Sample data [549, 681, 82, 6, 159, 777, 10, 253, 824, 14] ['rachel', 'pike', ':', 'the', 'science', 'behind', 'a', 'climate', 'headline', 'in']\n"
     ]
    }
   ],
   "source": [
    "concat_from = ' '.join(text_from).split()\n",
    "vocabulary_size_from = len(list(set(concat_from)))\n",
    "data_from, count_from, dictionary_from, rev_dictionary_from = build_dataset(concat_from, vocabulary_size_from)\n",
    "print('vocab from size: %d'%(vocabulary_size_from))\n",
    "print('Most common words', count_from[4:10])\n",
    "print('Sample data', data_from[:10], [rev_dictionary_from[i] for i in data_from[:10]])"
   ]
  },
  {
   "cell_type": "code",
   "execution_count": 5,
   "metadata": {},
   "outputs": [
    {
     "name": "stdout",
     "output_type": "stream",
     "text": [
      "vocab to size: 1461\n",
      "Most common words [(',', 472), ('.', 430), ('tôi', 283), ('và', 230), ('có', 199), ('chúng', 196)]\n",
      "Sample data [87, 22, 882, 77, 10, 415, 111, 34, 83, 317] ['khoa', 'học', 'đằng', 'sau', 'một', 'tiêu', 'đề', 'về', 'khí', 'hậu']\n"
     ]
    }
   ],
   "source": [
    "concat_to = ' '.join(text_to).split()\n",
    "vocabulary_size_to = len(list(set(concat_to)))\n",
    "data_to, count_to, dictionary_to, rev_dictionary_to = build_dataset(concat_to, vocabulary_size_to)\n",
    "print('vocab to size: %d'%(vocabulary_size_to))\n",
    "print('Most common words', count_to[4:10])\n",
    "print('Sample data', data_to[:10], [rev_dictionary_to[i] for i in data_to[:10]])"
   ]
  },
  {
   "cell_type": "code",
   "execution_count": 6,
   "metadata": {},
   "outputs": [],
   "source": [
    "GO = dictionary_from['GO']\n",
    "PAD = dictionary_from['PAD']\n",
    "EOS = dictionary_from['EOS']\n",
    "UNK = dictionary_from['UNK']"
   ]
  },
  {
   "cell_type": "code",
   "execution_count": 7,
   "metadata": {},
   "outputs": [],
   "source": [
    "def layer_normalization(x, epsilon=1e-8):\n",
    "    shape = x.get_shape()\n",
    "    tf.Variable(tf.zeros(shape = [int(shape[-1])]))\n",
    "    beta = tf.Variable(tf.zeros(shape = [int(shape[-1])]))\n",
    "    gamma = tf.Variable(tf.ones(shape = [int(shape[-1])]))\n",
    "    mean, variance = tf.nn.moments(x, axes=[len(shape) - 1], keep_dims=True)\n",
    "    x = (x - mean) /  tf.sqrt(variance + epsilon)\n",
    "    return gamma * x + beta\n",
    "\n",
    "def conv1d(input_, output_channels, dilation = 1, filter_width = 1, causal = False):\n",
    "    w = tf.Variable(tf.random_normal([1, filter_width, int(input_.get_shape()[-1]), output_channels], stddev = 0.02))\n",
    "    b = tf.Variable(tf.zeros(shape = [output_channels]))\n",
    "    if causal:\n",
    "        padding = [[0, 0], [(filter_width - 1) * dilation, 0], [0, 0]]\n",
    "        padded = tf.pad(input_, padding)\n",
    "        input_expanded = tf.expand_dims(padded, dim = 1)\n",
    "        out = tf.nn.atrous_conv2d(input_expanded, w, rate = dilation, padding = 'VALID') + b\n",
    "    else:\n",
    "        input_expanded = tf.expand_dims(input_, dim = 1)\n",
    "        out = tf.nn.atrous_conv2d(input_expanded, w, rate = dilation, padding = 'SAME') + b\n",
    "    return tf.squeeze(out, [1])\n",
    "\n",
    "def bytenet_residual_block(input_, dilation, layer_no, \n",
    "                            residual_channels, filter_width, \n",
    "                            causal = True):\n",
    "    block_type = \"decoder\" if causal else \"encoder\"\n",
    "    block_name = \"bytenet_{}_layer_{}_{}\".format(block_type, layer_no, dilation)\n",
    "    with tf.variable_scope(block_name):\n",
    "        relu1 = tf.nn.relu(layer_normalization(input_))\n",
    "        conv1 = conv1d(relu1, residual_channels)\n",
    "        relu2 = tf.nn.relu(layer_normalization(conv1))\n",
    "        dilated_conv = conv1d(relu2, residual_channels, \n",
    "                              dilation, filter_width,\n",
    "                              causal = causal)\n",
    "        print(dilated_conv)\n",
    "        relu3 = tf.nn.relu(layer_normalization(dilated_conv))\n",
    "        conv2 = conv1d(relu3, 2 * residual_channels)\n",
    "        return input_ + conv2\n",
    "    \n",
    "class ByteNet:\n",
    "    def __init__(self, from_vocab_size, to_vocab_size, channels, encoder_dilations,\n",
    "                decoder_dilations, encoder_filter_width, decoder_filter_width,\n",
    "                learning_rate = 0.001, beta1=0.5):\n",
    "        self.X = tf.placeholder(tf.int32, [None, None])\n",
    "        self.Y = tf.placeholder(tf.int32, [None, None])\n",
    "        main = tf.strided_slice(self.X, [0, 0], [batch_size, -1], [1, 1])\n",
    "        target_1 = tf.concat([tf.fill([batch_size, 1], GO), main], 1)\n",
    "        embedding_channels = 2 * channels\n",
    "        w_source_embedding = tf.Variable(tf.random_normal([from_vocab_size, \n",
    "                                                           embedding_channels], stddev = 0.02))\n",
    "        w_target_embedding = tf.Variable(tf.random_normal([to_vocab_size, \n",
    "                                                           embedding_channels], stddev = 0.02))\n",
    "        source_embedding = tf.nn.embedding_lookup(w_source_embedding, self.X)\n",
    "        target_1_embedding = tf.nn.embedding_lookup(w_target_embedding, target_1)\n",
    "        curr_input = source_embedding\n",
    "        for layer_no, dilation in enumerate(encoder_dilations):\n",
    "            curr_input = bytenet_residual_block(curr_input, dilation, \n",
    "                                                layer_no, channels, \n",
    "                                                encoder_filter_width, \n",
    "                                                causal = False)\n",
    "        encoder_output = curr_input\n",
    "        combined_embedding = target_1_embedding + encoder_output\n",
    "        curr_input = combined_embedding\n",
    "        for layer_no, dilation in enumerate(decoder_dilations):\n",
    "            curr_input = bytenet_residual_block(curr_input, dilation, \n",
    "                                                layer_no, channels, \n",
    "                                                encoder_filter_width, \n",
    "                                                causal = False)\n",
    "        self.logits = conv1d(tf.nn.relu(curr_input), to_vocab_size)\n",
    "        logits_flat = tf.reshape(self.logits, [-1, to_vocab_size])\n",
    "        target_flat = tf.reshape(self.Y, [-1])\n",
    "        loss = tf.nn.sparse_softmax_cross_entropy_with_logits(labels = target_flat, \n",
    "                                                              logits = logits_flat)\n",
    "        self.cost = tf.reduce_mean(loss)\n",
    "        self.optimizer = tf.train.AdamOptimizer(learning_rate, beta1 = beta1).minimize(self.cost)"
   ]
  },
  {
   "cell_type": "code",
   "execution_count": 8,
   "metadata": {},
   "outputs": [],
   "source": [
    "residual_channels = 128\n",
    "encoder_dilations = [1,2,4,8,16,1,2,4,8,16]\n",
    "decoder_dilations = [1,2,4,8,16,1,2,4,8,16]\n",
    "encoder_filter_width = 3\n",
    "decoder_filter_width = 3\n",
    "batch_size = 8\n",
    "epoch = 5"
   ]
  },
  {
   "cell_type": "code",
   "execution_count": 9,
   "metadata": {},
   "outputs": [
    {
     "name": "stdout",
     "output_type": "stream",
     "text": [
      "Tensor(\"bytenet_encoder_layer_0_1/Squeeze_1:0\", shape=(?, ?, 128), dtype=float32)\n",
      "Tensor(\"bytenet_encoder_layer_1_2/Squeeze_1:0\", shape=(?, ?, 128), dtype=float32)\n",
      "Tensor(\"bytenet_encoder_layer_2_4/Squeeze_1:0\", shape=(?, ?, 128), dtype=float32)\n",
      "Tensor(\"bytenet_encoder_layer_3_8/Squeeze_1:0\", shape=(?, ?, 128), dtype=float32)\n",
      "Tensor(\"bytenet_encoder_layer_4_16/Squeeze_1:0\", shape=(?, ?, 128), dtype=float32)\n",
      "Tensor(\"bytenet_encoder_layer_5_1/Squeeze_1:0\", shape=(?, ?, 128), dtype=float32)\n",
      "Tensor(\"bytenet_encoder_layer_6_2/Squeeze_1:0\", shape=(?, ?, 128), dtype=float32)\n",
      "Tensor(\"bytenet_encoder_layer_7_4/Squeeze_1:0\", shape=(?, ?, 128), dtype=float32)\n",
      "Tensor(\"bytenet_encoder_layer_8_8/Squeeze_1:0\", shape=(?, ?, 128), dtype=float32)\n",
      "Tensor(\"bytenet_encoder_layer_9_16/Squeeze_1:0\", shape=(?, ?, 128), dtype=float32)\n",
      "Tensor(\"bytenet_encoder_layer_0_1_1/Squeeze_1:0\", shape=(8, ?, 128), dtype=float32)\n",
      "Tensor(\"bytenet_encoder_layer_1_2_1/Squeeze_1:0\", shape=(8, ?, 128), dtype=float32)\n",
      "Tensor(\"bytenet_encoder_layer_2_4_1/Squeeze_1:0\", shape=(8, ?, 128), dtype=float32)\n",
      "Tensor(\"bytenet_encoder_layer_3_8_1/Squeeze_1:0\", shape=(8, ?, 128), dtype=float32)\n",
      "Tensor(\"bytenet_encoder_layer_4_16_1/Squeeze_1:0\", shape=(8, ?, 128), dtype=float32)\n",
      "Tensor(\"bytenet_encoder_layer_5_1_1/Squeeze_1:0\", shape=(8, ?, 128), dtype=float32)\n",
      "Tensor(\"bytenet_encoder_layer_6_2_1/Squeeze_1:0\", shape=(8, ?, 128), dtype=float32)\n",
      "Tensor(\"bytenet_encoder_layer_7_4_1/Squeeze_1:0\", shape=(8, ?, 128), dtype=float32)\n",
      "Tensor(\"bytenet_encoder_layer_8_8_1/Squeeze_1:0\", shape=(8, ?, 128), dtype=float32)\n",
      "Tensor(\"bytenet_encoder_layer_9_16_1/Squeeze_1:0\", shape=(8, ?, 128), dtype=float32)\n"
     ]
    }
   ],
   "source": [
    "tf.reset_default_graph()\n",
    "sess = tf.InteractiveSession()\n",
    "model = ByteNet(vocabulary_size_from + 4, vocabulary_size_to + 4, \n",
    "                residual_channels, encoder_dilations, decoder_dilations,\n",
    "                encoder_filter_width,decoder_filter_width)\n",
    "sess.run(tf.global_variables_initializer())"
   ]
  },
  {
   "cell_type": "code",
   "execution_count": 10,
   "metadata": {},
   "outputs": [],
   "source": [
    "def str_idx(corpus, dic):\n",
    "    X = []\n",
    "    for i in corpus:\n",
    "        ints = []\n",
    "        for k in i.split():\n",
    "            try:\n",
    "                ints.append(dic[k])\n",
    "            except Exception as e:\n",
    "                print(e)\n",
    "                ints.append(2)\n",
    "        X.append(ints)\n",
    "    return X"
   ]
  },
  {
   "cell_type": "code",
   "execution_count": 11,
   "metadata": {},
   "outputs": [
    {
     "name": "stdout",
     "output_type": "stream",
     "text": [
      "'korea'\n",
      "'mêtan'\n"
     ]
    }
   ],
   "source": [
    "X = str_idx(text_from, dictionary_from)\n",
    "Y = str_idx(text_to, dictionary_to)"
   ]
  },
  {
   "cell_type": "code",
   "execution_count": 14,
   "metadata": {},
   "outputs": [],
   "source": [
    "def pad_sentence_batch(sentence_batch, pad_int):\n",
    "    padded_seqs = []\n",
    "    seq_lens = []\n",
    "    max_sentence_len = 120\n",
    "    for sentence in sentence_batch:\n",
    "        padded_seqs.append(sentence + [pad_int] * (max_sentence_len - len(sentence)))\n",
    "        seq_lens.append(120)\n",
    "    return padded_seqs, seq_lens\n",
    "\n",
    "def check_accuracy(logits, Y):\n",
    "    acc = 0\n",
    "    for i in range(logits.shape[0]):\n",
    "        internal_acc = 0\n",
    "        for k in range(len(Y[i])):\n",
    "            if Y[i][k] == logits[i][k]:\n",
    "                internal_acc += 1\n",
    "        acc += (internal_acc / len(Y[i]))\n",
    "    return acc / logits.shape[0]"
   ]
  },
  {
   "cell_type": "code",
   "execution_count": null,
   "metadata": {},
   "outputs": [
    {
     "name": "stdout",
     "output_type": "stream",
     "text": [
      "epoch: 1, avg loss: 1.528554, avg accuracy: 0.796774\n",
      "epoch: 2, avg loss: 1.413750, avg accuracy: 0.785349\n"
     ]
    }
   ],
   "source": [
    "for i in range(epoch):\n",
    "    total_loss, total_accuracy = 0, 0\n",
    "    for k in range(0, (len(text_from) // batch_size) * batch_size, batch_size):\n",
    "        batch_x, seq_x = pad_sentence_batch(X[k: k+batch_size], PAD)\n",
    "        batch_y, seq_y = pad_sentence_batch(Y[k: k+batch_size], PAD)\n",
    "        predicted, loss, _ = sess.run([tf.argmax(model.logits,2), model.cost, model.optimizer], \n",
    "                                      feed_dict={model.X:batch_x,\n",
    "                                                model.Y:batch_y})\n",
    "        total_loss += loss\n",
    "        total_accuracy += check_accuracy(predicted,batch_y)\n",
    "    total_loss /= (len(text_from) // batch_size)\n",
    "    total_accuracy /= (len(text_from) // batch_size)\n",
    "    print('epoch: %d, avg loss: %f, avg accuracy: %f'%(i+1, total_loss, total_accuracy))"
   ]
  },
  {
   "cell_type": "code",
   "execution_count": null,
   "metadata": {},
   "outputs": [],
   "source": []
  }
 ],
 "metadata": {
  "kernelspec": {
   "display_name": "Python 3",
   "language": "python",
   "name": "python3"
  },
  "language_info": {
   "codemirror_mode": {
    "name": "ipython",
    "version": 3
   },
   "file_extension": ".py",
   "mimetype": "text/x-python",
   "name": "python",
   "nbconvert_exporter": "python",
   "pygments_lexer": "ipython3",
   "version": "3.5.2"
  }
 },
 "nbformat": 4,
 "nbformat_minor": 2
}
