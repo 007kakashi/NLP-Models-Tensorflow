{
 "cells": [
  {
   "cell_type": "code",
   "execution_count": 1,
   "metadata": {},
   "outputs": [
    {
     "name": "stderr",
     "output_type": "stream",
     "text": [
      "/usr/local/lib/python3.5/dist-packages/h5py/__init__.py:36: FutureWarning: Conversion of the second argument of issubdtype from `float` to `np.floating` is deprecated. In future, it will be treated as `np.float64 == np.dtype(float).type`.\n",
      "  from ._conv import register_converters as _register_converters\n",
      "/usr/local/lib/python3.5/dist-packages/sklearn/cross_validation.py:41: DeprecationWarning: This module was deprecated in version 0.18 in favor of the model_selection module into which all the refactored classes and functions are moved. Also note that the interface of the new CV iterators are different from that of this module. This module will be removed in 0.20.\n",
      "  \"This module will be removed in 0.20.\", DeprecationWarning)\n"
     ]
    }
   ],
   "source": [
    "from utils import *\n",
    "import tensorflow as tf\n",
    "from sklearn.cross_validation import train_test_split\n",
    "import time"
   ]
  },
  {
   "cell_type": "code",
   "execution_count": 2,
   "metadata": {},
   "outputs": [
    {
     "name": "stdout",
     "output_type": "stream",
     "text": [
      "['negative', 'positive']\n",
      "10662\n",
      "10662\n"
     ]
    }
   ],
   "source": [
    "trainset = sklearn.datasets.load_files(container_path = 'data', encoding = 'UTF-8')\n",
    "trainset.data, trainset.target = separate_dataset(trainset,1.0)\n",
    "print (trainset.target_names)\n",
    "print (len(trainset.data))\n",
    "print (len(trainset.target))"
   ]
  },
  {
   "cell_type": "code",
   "execution_count": 3,
   "metadata": {},
   "outputs": [],
   "source": [
    "ONEHOT = np.zeros((len(trainset.data),len(trainset.target_names)))\n",
    "ONEHOT[np.arange(len(trainset.data)),trainset.target] = 1.0\n",
    "train_X, test_X, train_Y, test_Y, train_onehot, test_onehot = train_test_split(trainset.data, \n",
    "                                                                               trainset.target, \n",
    "                                                                               ONEHOT, test_size = 0.2)"
   ]
  },
  {
   "cell_type": "code",
   "execution_count": 4,
   "metadata": {},
   "outputs": [
    {
     "name": "stdout",
     "output_type": "stream",
     "text": [
      "vocab from size: 20465\n",
      "Most common words [('the', 10129), ('a', 7312), ('and', 6199), ('of', 6063), ('to', 4233), ('is', 3378)]\n",
      "Sample data [4, 648, 9, 2665, 8, 22, 4, 3540, 12923, 98] ['the', 'rock', 'is', 'destined', 'to', 'be', 'the', '21st', 'centurys', 'new']\n"
     ]
    }
   ],
   "source": [
    "concat = ' '.join(trainset.data).split()\n",
    "vocabulary_size = len(list(set(concat)))\n",
    "data, count, dictionary, rev_dictionary = build_dataset(concat, vocabulary_size)\n",
    "print('vocab from size: %d'%(vocabulary_size))\n",
    "print('Most common words', count[4:10])\n",
    "print('Sample data', data[:10], [rev_dictionary[i] for i in data[:10]])"
   ]
  },
  {
   "cell_type": "code",
   "execution_count": 5,
   "metadata": {},
   "outputs": [],
   "source": [
    "GO = dictionary['GO']\n",
    "PAD = dictionary['PAD']\n",
    "EOS = dictionary['EOS']\n",
    "UNK = dictionary['UNK']"
   ]
  },
  {
   "cell_type": "code",
   "execution_count": 6,
   "metadata": {},
   "outputs": [],
   "source": [
    "class Model:\n",
    "    def __init__(self, size_layer, num_layers, embedded_size,\n",
    "                 dict_size, dimension_output, maxlen,\n",
    "                grad_clip=5.0, kernel_sizes=[3,3,3]):\n",
    "        n_filters = [25 * k for k in kernel_sizes]\n",
    "        \n",
    "        def cells(reuse=False):\n",
    "            return tf.nn.rnn_cell.LSTMCell(size_layer,initializer=tf.orthogonal_initializer(),reuse=reuse)\n",
    "        \n",
    "        def add_highway(x, i):\n",
    "            size = sum(n_filters)\n",
    "            reshaped = tf.reshape(x, [-1, size])\n",
    "            H = tf.layers.dense(reshaped, size, tf.nn.relu, name='activation'+str(i))\n",
    "            T = tf.layers.dense(reshaped, size, tf.sigmoid, name='transform_gate'+str(i))\n",
    "            C = tf.subtract(1.0, T)\n",
    "            highway_out = tf.add(tf.multiply(H, T), tf.multiply(reshaped, C))\n",
    "            return tf.reshape(highway_out, [-1, 1, size])\n",
    "        \n",
    "        self.X = tf.placeholder(tf.int32, [None, None])\n",
    "        self.Y = tf.placeholder(tf.float32, [None, dimension_output])\n",
    "        encoder_embeddings = tf.Variable(tf.random_uniform([dict_size, embedded_size], -1, 1))\n",
    "        encoder_embedded = tf.nn.embedding_lookup(encoder_embeddings, self.X)\n",
    "        encoder_embedded = tf.reshape(encoder_embedded,[-1, maxlen, embedded_size])\n",
    "        \n",
    "        parallels = []\n",
    "        for i, (n_filter, kernel_size) in enumerate(zip(n_filters, kernel_sizes)):\n",
    "            conv_out = tf.layers.conv1d(inputs = encoder_embedded,\n",
    "                                        filters = n_filter,\n",
    "                                        kernel_size  = kernel_size,\n",
    "                                        activation = tf.tanh,\n",
    "                                        name = 'conv1d'+str(i))\n",
    "            pool_out = tf.layers.max_pooling1d(inputs = conv_out,\n",
    "                                               pool_size = conv_out.get_shape().as_list()[1],\n",
    "                                               strides = 1)\n",
    "            parallels.append(tf.reshape(pool_out, [-1, n_filter]))\n",
    "        pointer = tf.concat(parallels,1)\n",
    "        \n",
    "        for i in range(2):\n",
    "            pointer = add_highway(pointer, i)\n",
    "            \n",
    "        rnn_cells = tf.nn.rnn_cell.MultiRNNCell([cells() for _ in range(num_layers)])\n",
    "        outputs, _ = tf.nn.dynamic_rnn(rnn_cells, pointer, dtype = tf.float32)\n",
    "        W = tf.get_variable('w',shape=(size_layer, dimension_output),initializer=tf.orthogonal_initializer())\n",
    "        b = tf.get_variable('b',shape=(dimension_output),initializer=tf.zeros_initializer())\n",
    "        self.logits = tf.matmul(outputs[:, -1], W) + b\n",
    "        self.cost = tf.reduce_mean(tf.nn.softmax_cross_entropy_with_logits(logits = self.logits, labels = self.Y))\n",
    "        params = tf.trainable_variables()\n",
    "        gradients = tf.gradients(self.cost, params)\n",
    "        clipped_gradients, _ = tf.clip_by_global_norm(gradients, grad_clip)\n",
    "        self.optimizer = tf.train.AdamOptimizer().apply_gradients(zip(clipped_gradients, params))\n",
    "        correct_pred = tf.equal(tf.argmax(self.logits, 1), tf.argmax(self.Y, 1))\n",
    "        self.accuracy = tf.reduce_mean(tf.cast(correct_pred, tf.float32))"
   ]
  },
  {
   "cell_type": "code",
   "execution_count": 7,
   "metadata": {},
   "outputs": [],
   "source": [
    "size_layer = 128\n",
    "num_layers = 2\n",
    "embedded_size = 128\n",
    "dimension_output = len(trainset.target_names)\n",
    "learning_rate = 1e-3\n",
    "maxlen = 50\n",
    "batch_size = 128"
   ]
  },
  {
   "cell_type": "code",
   "execution_count": 8,
   "metadata": {},
   "outputs": [],
   "source": [
    "tf.reset_default_graph()\n",
    "sess = tf.InteractiveSession()\n",
    "model = Model(size_layer,num_layers,embedded_size,vocabulary_size+4,dimension_output,maxlen)\n",
    "sess.run(tf.global_variables_initializer())"
   ]
  },
  {
   "cell_type": "code",
   "execution_count": 9,
   "metadata": {},
   "outputs": [
    {
     "name": "stdout",
     "output_type": "stream",
     "text": [
      "epoch: 0, pass acc: 0.000000, current acc: 0.494141\n",
      "time taken: 1.5677621364593506\n",
      "epoch: 0, training loss: 0.693380, training acc: 0.499053, valid loss: 0.693347, valid acc: 0.494141\n",
      "\n",
      "epoch: 1, pass acc: 0.494141, current acc: 0.500488\n",
      "time taken: 1.0060293674468994\n",
      "epoch: 1, training loss: 0.646783, training acc: 0.606416, valid loss: 0.777234, valid acc: 0.500488\n",
      "\n",
      "time taken: 0.9993627071380615\n",
      "epoch: 2, training loss: 0.364439, training acc: 0.839844, valid loss: 1.365667, valid acc: 0.497559\n",
      "\n",
      "epoch: 3, pass acc: 0.500488, current acc: 0.510742\n",
      "time taken: 1.004087209701538\n",
      "epoch: 3, training loss: 0.184658, training acc: 0.935133, valid loss: 2.393101, valid acc: 0.510742\n",
      "\n",
      "time taken: 1.0012197494506836\n",
      "epoch: 4, training loss: 0.202151, training acc: 0.945668, valid loss: 2.108834, valid acc: 0.497559\n",
      "\n",
      "time taken: 1.0012383460998535\n",
      "epoch: 5, training loss: 0.086572, training acc: 0.967803, valid loss: 2.260172, valid acc: 0.500977\n",
      "\n",
      "time taken: 1.0010483264923096\n",
      "epoch: 6, training loss: 0.117143, training acc: 0.948509, valid loss: 1.824598, valid acc: 0.502930\n",
      "\n",
      "epoch: 7, pass acc: 0.510742, current acc: 0.515137\n",
      "time taken: 1.005544662475586\n",
      "epoch: 7, training loss: 0.066413, training acc: 0.976799, valid loss: 2.348887, valid acc: 0.515137\n",
      "\n",
      "time taken: 1.0017139911651611\n",
      "epoch: 8, training loss: 0.007146, training acc: 0.997277, valid loss: 2.979228, valid acc: 0.510742\n",
      "\n",
      "time taken: 1.000716209411621\n",
      "epoch: 9, training loss: 0.001055, training acc: 0.999763, valid loss: 3.277135, valid acc: 0.503906\n",
      "\n",
      "time taken: 0.9987287521362305\n",
      "epoch: 10, training loss: 0.000368, training acc: 1.000000, valid loss: 3.435029, valid acc: 0.508301\n",
      "\n",
      "time taken: 0.9982621669769287\n",
      "epoch: 11, training loss: 0.000057, training acc: 1.000000, valid loss: 3.506740, valid acc: 0.508789\n",
      "\n",
      "time taken: 1.0023820400238037\n",
      "epoch: 12, training loss: 0.000043, training acc: 1.000000, valid loss: 3.565668, valid acc: 0.507812\n",
      "\n",
      "break epoch:13\n",
      "\n"
     ]
    }
   ],
   "source": [
    "EARLY_STOPPING, CURRENT_CHECKPOINT, CURRENT_ACC, EPOCH = 5, 0, 0, 0\n",
    "while True:\n",
    "    lasttime = time.time()\n",
    "    if CURRENT_CHECKPOINT == EARLY_STOPPING:\n",
    "        print('break epoch:%d\\n'%(EPOCH))\n",
    "        break\n",
    "        \n",
    "    train_acc, train_loss, test_acc, test_loss = 0, 0, 0, 0\n",
    "    for i in range(0, (len(train_X) // batch_size) * batch_size, batch_size):\n",
    "        batch_x = str_idx(train_X[i:i+batch_size],dictionary,maxlen)\n",
    "        acc, loss, _ = sess.run([model.accuracy, model.cost, model.optimizer], \n",
    "                           feed_dict = {model.X : batch_x, model.Y : train_onehot[i:i+batch_size]})\n",
    "        train_loss += loss\n",
    "        train_acc += acc\n",
    "    \n",
    "    for i in range(0, (len(test_X) // batch_size) * batch_size, batch_size):\n",
    "        batch_x = str_idx(test_X[i:i+batch_size],dictionary,maxlen)\n",
    "        acc, loss = sess.run([model.accuracy, model.cost], \n",
    "                           feed_dict = {model.X : batch_x, model.Y : train_onehot[i:i+batch_size]})\n",
    "        test_loss += loss\n",
    "        test_acc += acc\n",
    "    \n",
    "    train_loss /= (len(train_X) // batch_size)\n",
    "    train_acc /= (len(train_X) // batch_size)\n",
    "    test_loss /= (len(test_X) // batch_size)\n",
    "    test_acc /= (len(test_X) // batch_size)\n",
    "    \n",
    "    if test_acc > CURRENT_ACC:\n",
    "        print('epoch: %d, pass acc: %f, current acc: %f'%(EPOCH,CURRENT_ACC, test_acc))\n",
    "        CURRENT_ACC = test_acc\n",
    "        CURRENT_CHECKPOINT = 0\n",
    "    else:\n",
    "        CURRENT_CHECKPOINT += 1\n",
    "        \n",
    "    print('time taken:', time.time()-lasttime)\n",
    "    print('epoch: %d, training loss: %f, training acc: %f, valid loss: %f, valid acc: %f\\n'%(EPOCH,train_loss,\n",
    "                                                                                          train_acc,test_loss,\n",
    "                                                                                          test_acc))\n",
    "    EPOCH += 1"
   ]
  },
  {
   "cell_type": "code",
   "execution_count": 10,
   "metadata": {},
   "outputs": [
    {
     "name": "stdout",
     "output_type": "stream",
     "text": [
      "             precision    recall  f1-score   support\n",
      "\n",
      "   negative       0.71      0.69      0.70      1068\n",
      "   positive       0.70      0.72      0.71      1065\n",
      "\n",
      "avg / total       0.70      0.70      0.70      2133\n",
      "\n"
     ]
    }
   ],
   "source": [
    "logits = sess.run(model.logits, feed_dict={model.X:str_idx(test_X,dictionary,maxlen)})\n",
    "print(metrics.classification_report(test_Y, np.argmax(logits,1), target_names = trainset.target_names))"
   ]
  },
  {
   "cell_type": "code",
   "execution_count": null,
   "metadata": {},
   "outputs": [],
   "source": []
  }
 ],
 "metadata": {
  "kernelspec": {
   "display_name": "Python 3",
   "language": "python",
   "name": "python3"
  },
  "language_info": {
   "codemirror_mode": {
    "name": "ipython",
    "version": 3
   },
   "file_extension": ".py",
   "mimetype": "text/x-python",
   "name": "python",
   "nbconvert_exporter": "python",
   "pygments_lexer": "ipython3",
   "version": "3.5.2"
  }
 },
 "nbformat": 4,
 "nbformat_minor": 2
}
