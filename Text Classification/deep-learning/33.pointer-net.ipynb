{
 "cells": [
  {
   "cell_type": "code",
   "execution_count": 1,
   "metadata": {},
   "outputs": [
    {
     "name": "stderr",
     "output_type": "stream",
     "text": [
      "/usr/local/lib/python3.5/dist-packages/h5py/__init__.py:36: FutureWarning: Conversion of the second argument of issubdtype from `float` to `np.floating` is deprecated. In future, it will be treated as `np.float64 == np.dtype(float).type`.\n",
      "  from ._conv import register_converters as _register_converters\n",
      "/usr/local/lib/python3.5/dist-packages/sklearn/cross_validation.py:41: DeprecationWarning: This module was deprecated in version 0.18 in favor of the model_selection module into which all the refactored classes and functions are moved. Also note that the interface of the new CV iterators are different from that of this module. This module will be removed in 0.20.\n",
      "  \"This module will be removed in 0.20.\", DeprecationWarning)\n"
     ]
    }
   ],
   "source": [
    "from utils import *\n",
    "import tensorflow as tf\n",
    "from sklearn.cross_validation import train_test_split\n",
    "import time"
   ]
  },
  {
   "cell_type": "code",
   "execution_count": 2,
   "metadata": {},
   "outputs": [
    {
     "name": "stdout",
     "output_type": "stream",
     "text": [
      "['negative', 'positive']\n",
      "10662\n",
      "10662\n"
     ]
    }
   ],
   "source": [
    "trainset = sklearn.datasets.load_files(container_path = 'data', encoding = 'UTF-8')\n",
    "trainset.data, trainset.target = separate_dataset(trainset,1.0)\n",
    "print (trainset.target_names)\n",
    "print (len(trainset.data))\n",
    "print (len(trainset.target))"
   ]
  },
  {
   "cell_type": "code",
   "execution_count": 3,
   "metadata": {},
   "outputs": [],
   "source": [
    "ONEHOT = np.zeros((len(trainset.data),len(trainset.target_names)))\n",
    "ONEHOT[np.arange(len(trainset.data)),trainset.target] = 1.0\n",
    "train_X, test_X, train_Y, test_Y, train_onehot, test_onehot = train_test_split(trainset.data, \n",
    "                                                                               trainset.target, \n",
    "                                                                               ONEHOT, test_size = 0.2)"
   ]
  },
  {
   "cell_type": "code",
   "execution_count": 4,
   "metadata": {},
   "outputs": [
    {
     "name": "stdout",
     "output_type": "stream",
     "text": [
      "vocab from size: 20465\n",
      "Most common words [('the', 10129), ('a', 7312), ('and', 6199), ('of', 6063), ('to', 4233), ('is', 3378)]\n",
      "Sample data [4, 667, 9, 2623, 8, 22, 4, 3424, 14444, 98] ['the', 'rock', 'is', 'destined', 'to', 'be', 'the', '21st', 'centurys', 'new']\n"
     ]
    }
   ],
   "source": [
    "concat = ' '.join(trainset.data).split()\n",
    "vocabulary_size = len(list(set(concat)))\n",
    "data, count, dictionary, rev_dictionary = build_dataset(concat, vocabulary_size)\n",
    "print('vocab from size: %d'%(vocabulary_size))\n",
    "print('Most common words', count[4:10])\n",
    "print('Sample data', data[:10], [rev_dictionary[i] for i in data[:10]])"
   ]
  },
  {
   "cell_type": "code",
   "execution_count": 5,
   "metadata": {},
   "outputs": [],
   "source": [
    "GO = dictionary['GO']\n",
    "PAD = dictionary['PAD']\n",
    "EOS = dictionary['EOS']\n",
    "UNK = dictionary['UNK']"
   ]
  },
  {
   "cell_type": "code",
   "execution_count": 12,
   "metadata": {},
   "outputs": [],
   "source": [
    "class Model:\n",
    "    def __init__(self, size_layer, embedded_size, maxlen,\n",
    "                batch_size, dict_size, dimension_output, grad_clip=5.0):\n",
    "        \n",
    "        def cells(reuse=False):\n",
    "            return tf.nn.rnn_cell.GRUCell(size_layer,kernel_initializer=tf.orthogonal_initializer(),\n",
    "                                          reuse=reuse)\n",
    "        \n",
    "        self.X = tf.placeholder(tf.int32, [None, maxlen])\n",
    "        self.Y = tf.placeholder(tf.float32, [None, dimension_output])\n",
    "        encoder_embeddings = tf.Variable(tf.random_uniform([dict_size, embedded_size], -1, 1))\n",
    "        encoder_embedded = tf.nn.embedding_lookup(encoder_embeddings, self.X)\n",
    "        enc_rnn_out, enc_state = tf.nn.dynamic_rnn(cell = cells(), \n",
    "                                                   inputs = encoder_embedded,\n",
    "                                                   dtype = tf.float32)\n",
    "        def loop_fn(state, masks):\n",
    "            query = tf.expand_dims(state, -1)\n",
    "            align = tf.squeeze(tf.matmul(enc_rnn_out, query), -1)\n",
    "            return (align * masks)\n",
    "        \n",
    "        def point(idx):\n",
    "            idx = tf.expand_dims(idx, 1)\n",
    "            b = tf.expand_dims(tf.range(batch_size),1)\n",
    "            c = tf.concat((tf.to_int64(b), idx), 1)\n",
    "            return tf.gather_nd(encoder_embedded, c)\n",
    "        \n",
    "        starts = tf.fill([batch_size], GO)\n",
    "        inp = tf.nn.embedding_lookup(encoder_embeddings, starts)\n",
    "        masks = tf.to_float(tf.sign(self.X))\n",
    "        outputs = []\n",
    "        cell = cells()\n",
    "        for i in range(maxlen):\n",
    "            _, state = cell(inp, enc_state)\n",
    "            output = loop_fn(state, masks)\n",
    "            outputs.append(output)\n",
    "            idx = tf.argmax(output, -1)\n",
    "            inp = point(idx)\n",
    "        outputs = tf.stack(outputs, 1)\n",
    "        self.logits = tf.layers.dense(outputs,dimension_output)[:,-1]\n",
    "        self.cost = tf.reduce_mean(tf.nn.softmax_cross_entropy_with_logits(logits = self.logits, labels = self.Y))\n",
    "        params = tf.trainable_variables()\n",
    "        gradients = tf.gradients(self.cost, params)\n",
    "        clipped_gradients, _ = tf.clip_by_global_norm(gradients, grad_clip)\n",
    "        self.optimizer = tf.train.AdamOptimizer().apply_gradients(zip(clipped_gradients, params))\n",
    "        correct_pred = tf.equal(tf.argmax(self.logits, 1), tf.argmax(self.Y, 1))\n",
    "        self.accuracy = tf.reduce_mean(tf.cast(correct_pred, tf.float32))"
   ]
  },
  {
   "cell_type": "code",
   "execution_count": 7,
   "metadata": {},
   "outputs": [],
   "source": [
    "size_layer = 128\n",
    "embedded_size = 128\n",
    "dimension_output = len(trainset.target_names)\n",
    "learning_rate = 1e-3\n",
    "maxlen = 50\n",
    "batch_size = 128"
   ]
  },
  {
   "cell_type": "code",
   "execution_count": 13,
   "metadata": {},
   "outputs": [],
   "source": [
    "tf.reset_default_graph()\n",
    "sess = tf.InteractiveSession()\n",
    "model = Model(size_layer,embedded_size,maxlen,\n",
    "              batch_size,vocabulary_size+4,dimension_output)\n",
    "sess.run(tf.global_variables_initializer())"
   ]
  },
  {
   "cell_type": "code",
   "execution_count": 14,
   "metadata": {},
   "outputs": [
    {
     "name": "stdout",
     "output_type": "stream",
     "text": [
      "epoch: 0, pass acc: 0.000000, current acc: 0.476562\n",
      "time taken: 6.302346706390381\n",
      "epoch: 0, training loss: 0.707175, training acc: 0.502131, valid loss: 0.707500, valid acc: 0.476562\n",
      "\n",
      "epoch: 1, pass acc: 0.476562, current acc: 0.482422\n",
      "time taken: 5.823400020599365\n",
      "epoch: 1, training loss: 0.629381, training acc: 0.676728, valid loss: 0.727227, valid acc: 0.482422\n",
      "\n",
      "epoch: 2, pass acc: 0.482422, current acc: 0.486816\n",
      "time taken: 5.821576356887817\n",
      "epoch: 2, training loss: 0.512231, training acc: 0.790365, valid loss: 0.817611, valid acc: 0.486816\n",
      "\n",
      "time taken: 5.826447010040283\n",
      "epoch: 3, training loss: 0.316942, training acc: 0.886009, valid loss: 1.047179, valid acc: 0.480469\n",
      "\n",
      "epoch: 4, pass acc: 0.486816, current acc: 0.488281\n",
      "time taken: 5.824160814285278\n",
      "epoch: 4, training loss: 0.141036, training acc: 0.961174, valid loss: 1.356360, valid acc: 0.488281\n",
      "\n",
      "epoch: 5, pass acc: 0.488281, current acc: 0.492676\n",
      "time taken: 5.821295738220215\n",
      "epoch: 5, training loss: 0.055852, training acc: 0.988518, valid loss: 1.641432, valid acc: 0.492676\n",
      "\n",
      "epoch: 6, pass acc: 0.492676, current acc: 0.493652\n",
      "time taken: 5.820214748382568\n",
      "epoch: 6, training loss: 0.024674, training acc: 0.995265, valid loss: 1.804327, valid acc: 0.493652\n",
      "\n",
      "time taken: 5.821304082870483\n",
      "epoch: 7, training loss: 0.012243, training acc: 0.997159, valid loss: 1.940826, valid acc: 0.492188\n",
      "\n",
      "epoch: 8, pass acc: 0.493652, current acc: 0.495117\n",
      "time taken: 5.823481321334839\n",
      "epoch: 8, training loss: 0.007788, training acc: 0.997988, valid loss: 2.055749, valid acc: 0.495117\n",
      "\n",
      "epoch: 9, pass acc: 0.495117, current acc: 0.498047\n",
      "time taken: 5.823056221008301\n",
      "epoch: 9, training loss: 0.005047, training acc: 0.998580, valid loss: 2.181514, valid acc: 0.498047\n",
      "\n",
      "time taken: 5.822571039199829\n",
      "epoch: 10, training loss: 0.003818, training acc: 0.999053, valid loss: 2.258326, valid acc: 0.494141\n",
      "\n",
      "time taken: 5.823541164398193\n",
      "epoch: 11, training loss: 0.006358, training acc: 0.998935, valid loss: 2.218845, valid acc: 0.489746\n",
      "\n",
      "time taken: 5.825468063354492\n",
      "epoch: 12, training loss: 0.003474, training acc: 0.999645, valid loss: 2.229821, valid acc: 0.490234\n",
      "\n",
      "time taken: 5.828554391860962\n",
      "epoch: 13, training loss: 0.002549, training acc: 0.999408, valid loss: 2.331385, valid acc: 0.493164\n",
      "\n",
      "epoch: 14, pass acc: 0.498047, current acc: 0.498535\n",
      "time taken: 5.8202338218688965\n",
      "epoch: 14, training loss: 0.002317, training acc: 0.999645, valid loss: 2.418360, valid acc: 0.498535\n",
      "\n",
      "time taken: 5.827065467834473\n",
      "epoch: 15, training loss: 0.002076, training acc: 0.999645, valid loss: 2.440546, valid acc: 0.497559\n",
      "\n",
      "time taken: 5.825342416763306\n",
      "epoch: 16, training loss: 0.001865, training acc: 0.999882, valid loss: 2.489949, valid acc: 0.498047\n",
      "\n",
      "epoch: 17, pass acc: 0.498535, current acc: 0.499023\n",
      "time taken: 5.824530839920044\n",
      "epoch: 17, training loss: 0.000902, training acc: 1.000000, valid loss: 2.562753, valid acc: 0.499023\n",
      "\n",
      "time taken: 5.825512409210205\n",
      "epoch: 18, training loss: 0.000634, training acc: 1.000000, valid loss: 2.609740, valid acc: 0.495605\n",
      "\n",
      "time taken: 5.827091455459595\n",
      "epoch: 19, training loss: 0.000543, training acc: 1.000000, valid loss: 2.669714, valid acc: 0.494629\n",
      "\n",
      "time taken: 5.825620412826538\n",
      "epoch: 20, training loss: 0.001025, training acc: 0.999882, valid loss: 2.668032, valid acc: 0.495117\n",
      "\n",
      "time taken: 5.8226823806762695\n",
      "epoch: 21, training loss: 0.000696, training acc: 0.999882, valid loss: 2.760696, valid acc: 0.492676\n",
      "\n",
      "time taken: 5.8252363204956055\n",
      "epoch: 22, training loss: 0.000381, training acc: 1.000000, valid loss: 2.797251, valid acc: 0.490723\n",
      "\n",
      "break epoch:23\n",
      "\n"
     ]
    }
   ],
   "source": [
    "EARLY_STOPPING, CURRENT_CHECKPOINT, CURRENT_ACC, EPOCH = 5, 0, 0, 0\n",
    "while True:\n",
    "    lasttime = time.time()\n",
    "    if CURRENT_CHECKPOINT == EARLY_STOPPING:\n",
    "        print('break epoch:%d\\n'%(EPOCH))\n",
    "        break\n",
    "        \n",
    "    train_acc, train_loss, test_acc, test_loss = 0, 0, 0, 0\n",
    "    for i in range(0, (len(train_X) // batch_size) * batch_size, batch_size):\n",
    "        batch_x = str_idx(train_X[i:i+batch_size],dictionary,maxlen)\n",
    "        acc, loss, _ = sess.run([model.accuracy, model.cost, model.optimizer], \n",
    "                           feed_dict = {model.X : batch_x, model.Y : train_onehot[i:i+batch_size]})\n",
    "        train_loss += loss\n",
    "        train_acc += acc\n",
    "    \n",
    "    for i in range(0, (len(test_X) // batch_size) * batch_size, batch_size):\n",
    "        batch_x = str_idx(test_X[i:i+batch_size],dictionary,maxlen)\n",
    "        acc, loss = sess.run([model.accuracy, model.cost], \n",
    "                           feed_dict = {model.X : batch_x, model.Y : train_onehot[i:i+batch_size]})\n",
    "        test_loss += loss\n",
    "        test_acc += acc\n",
    "    \n",
    "    train_loss /= (len(train_X) // batch_size)\n",
    "    train_acc /= (len(train_X) // batch_size)\n",
    "    test_loss /= (len(test_X) // batch_size)\n",
    "    test_acc /= (len(test_X) // batch_size)\n",
    "    \n",
    "    if test_acc > CURRENT_ACC:\n",
    "        print('epoch: %d, pass acc: %f, current acc: %f'%(EPOCH,CURRENT_ACC, test_acc))\n",
    "        CURRENT_ACC = test_acc\n",
    "        CURRENT_CHECKPOINT = 0\n",
    "    else:\n",
    "        CURRENT_CHECKPOINT += 1\n",
    "        \n",
    "    print('time taken:', time.time()-lasttime)\n",
    "    print('epoch: %d, training loss: %f, training acc: %f, valid loss: %f, valid acc: %f\\n'%(EPOCH,train_loss,\n",
    "                                                                                          train_acc,test_loss,\n",
    "                                                                                          test_acc))\n",
    "    EPOCH += 1"
   ]
  }
 ],
 "metadata": {
  "kernelspec": {
   "display_name": "Python 3",
   "language": "python",
   "name": "python3"
  },
  "language_info": {
   "codemirror_mode": {
    "name": "ipython",
    "version": 3
   },
   "file_extension": ".py",
   "mimetype": "text/x-python",
   "name": "python",
   "nbconvert_exporter": "python",
   "pygments_lexer": "ipython3",
   "version": "3.5.2"
  }
 },
 "nbformat": 4,
 "nbformat_minor": 2
}
