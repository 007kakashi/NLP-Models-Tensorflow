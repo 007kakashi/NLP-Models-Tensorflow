{
 "cells": [
  {
   "cell_type": "code",
   "execution_count": 1,
   "metadata": {},
   "outputs": [
    {
     "name": "stderr",
     "output_type": "stream",
     "text": [
      "/usr/local/lib/python3.5/dist-packages/h5py/__init__.py:36: FutureWarning: Conversion of the second argument of issubdtype from `float` to `np.floating` is deprecated. In future, it will be treated as `np.float64 == np.dtype(float).type`.\n",
      "  from ._conv import register_converters as _register_converters\n",
      "/usr/local/lib/python3.5/dist-packages/sklearn/cross_validation.py:41: DeprecationWarning: This module was deprecated in version 0.18 in favor of the model_selection module into which all the refactored classes and functions are moved. Also note that the interface of the new CV iterators are different from that of this module. This module will be removed in 0.20.\n",
      "  \"This module will be removed in 0.20.\", DeprecationWarning)\n"
     ]
    }
   ],
   "source": [
    "from utils import *\n",
    "import tensorflow as tf\n",
    "from sklearn.cross_validation import train_test_split\n",
    "import time\n",
    "import collections"
   ]
  },
  {
   "cell_type": "code",
   "execution_count": 2,
   "metadata": {},
   "outputs": [
    {
     "name": "stdout",
     "output_type": "stream",
     "text": [
      "['negative', 'positive']\n",
      "10662\n",
      "10662\n"
     ]
    }
   ],
   "source": [
    "trainset = sklearn.datasets.load_files(container_path = 'data', encoding = 'UTF-8')\n",
    "trainset.data, trainset.target = separate_dataset(trainset,1.0)\n",
    "print (trainset.target_names)\n",
    "print (len(trainset.data))\n",
    "print (len(trainset.target))"
   ]
  },
  {
   "cell_type": "code",
   "execution_count": 3,
   "metadata": {},
   "outputs": [],
   "source": [
    "ONEHOT = np.zeros((len(trainset.data),len(trainset.target_names)))\n",
    "ONEHOT[np.arange(len(trainset.data)),trainset.target] = 1.0\n",
    "train_X, test_X, train_Y, test_Y, train_onehot, test_onehot = train_test_split(trainset.data, \n",
    "                                                                               trainset.target, \n",
    "                                                                               ONEHOT, test_size = 0.2)"
   ]
  },
  {
   "cell_type": "code",
   "execution_count": 4,
   "metadata": {},
   "outputs": [
    {
     "name": "stdout",
     "output_type": "stream",
     "text": [
      "vocab from size: 20465\n",
      "Most common words [('the', 10129), ('a', 7312), ('and', 6199), ('of', 6063), ('to', 4233), ('is', 3378)]\n",
      "Sample data [4, 656, 9, 2825, 8, 22, 4, 3455, 11286, 97] ['the', 'rock', 'is', 'destined', 'to', 'be', 'the', '21st', 'centurys', 'new']\n"
     ]
    }
   ],
   "source": [
    "concat = ' '.join(trainset.data).split()\n",
    "vocabulary_size = len(list(set(concat)))\n",
    "data, count, dictionary, rev_dictionary = build_dataset(concat, vocabulary_size)\n",
    "print('vocab from size: %d'%(vocabulary_size))\n",
    "print('Most common words', count[4:10])\n",
    "print('Sample data', data[:10], [rev_dictionary[i] for i in data[:10]])"
   ]
  },
  {
   "cell_type": "code",
   "execution_count": 5,
   "metadata": {},
   "outputs": [],
   "source": [
    "GO = dictionary['GO']\n",
    "PAD = dictionary['PAD']\n",
    "EOS = dictionary['EOS']\n",
    "UNK = dictionary['UNK']"
   ]
  },
  {
   "cell_type": "code",
   "execution_count": 6,
   "metadata": {},
   "outputs": [],
   "source": [
    "def layer_normalization(x, epsilon=1e-8):\n",
    "    shape = x.get_shape()\n",
    "    tf.Variable(tf.zeros(shape = [int(shape[-1])]))\n",
    "    beta = tf.Variable(tf.zeros(shape = [int(shape[-1])]))\n",
    "    gamma = tf.Variable(tf.ones(shape = [int(shape[-1])]))\n",
    "    mean, variance = tf.nn.moments(x, axes=[len(shape) - 1], keep_dims=True)\n",
    "    x = (x - mean) /  tf.sqrt(variance + epsilon)\n",
    "    return gamma * x + beta\n",
    "\n",
    "def conv1d(input_, output_channels, dilation = 1, filter_width = 1, causal = False):\n",
    "    w = tf.Variable(tf.random_normal([1, filter_width, int(input_.get_shape()[-1]), output_channels], stddev = 0.02))\n",
    "    b = tf.Variable(tf.zeros(shape = [output_channels]))\n",
    "    if causal:\n",
    "        padding = [[0, 0], [(filter_width - 1) * dilation, 0], [0, 0]]\n",
    "        padded = tf.pad(input_, padding)\n",
    "        input_expanded = tf.expand_dims(padded, dim = 1)\n",
    "        out = tf.nn.atrous_conv2d(input_expanded, w, rate = dilation, padding = 'VALID') + b\n",
    "    else:\n",
    "        input_expanded = tf.expand_dims(input_, dim = 1)\n",
    "        out = tf.nn.atrous_conv2d(input_expanded, w, rate = dilation, padding = 'SAME') + b\n",
    "    return tf.squeeze(out, [1])\n",
    "\n",
    "def bytenet_residual_block(input_, dilation, layer_no, \n",
    "                            residual_channels, filter_width, \n",
    "                            causal = True):\n",
    "    block_type = \"decoder\" if causal else \"encoder\"\n",
    "    block_name = \"bytenet_{}_layer_{}_{}\".format(block_type, layer_no, dilation)\n",
    "    with tf.variable_scope(block_name):\n",
    "        relu1 = tf.nn.relu(layer_normalization(input_))\n",
    "        conv1 = conv1d(relu1, residual_channels)\n",
    "        relu2 = tf.nn.relu(layer_normalization(conv1))\n",
    "        dilated_conv = conv1d(relu2, residual_channels, \n",
    "                              dilation, filter_width,\n",
    "                              causal = causal)\n",
    "        relu3 = tf.nn.relu(layer_normalization(dilated_conv))\n",
    "        conv2 = conv1d(relu3, 2 * residual_channels)\n",
    "        return input_ + conv2\n",
    "    \n",
    "class ByteNet:\n",
    "    def __init__(self, dict_size, channels, encoder_dilations, dimension_output, encoder_filter_width,\n",
    "                learning_rate = 0.001, beta1=0.5):\n",
    "        self.X = tf.placeholder(tf.int32, [None, None])\n",
    "        self.Y = tf.placeholder(tf.int32, [None, dimension_output])\n",
    "        embedding_channels = 2 * channels\n",
    "        w_source_embedding = tf.Variable(tf.random_uniform([dict_size, embedding_channels], -1, 1))\n",
    "        source_embedding = tf.nn.embedding_lookup(w_source_embedding, self.X)\n",
    "        for layer_no, dilation in enumerate(encoder_dilations):\n",
    "            source_embedding = bytenet_residual_block(source_embedding, dilation, \n",
    "                                                layer_no, channels, \n",
    "                                                encoder_filter_width, \n",
    "                                                causal = False)\n",
    "        self.logits = conv1d(tf.nn.relu(source_embedding), dimension_output)[:,-1]\n",
    "        self.cost = tf.reduce_mean(tf.nn.softmax_cross_entropy_with_logits(logits = self.logits, labels = self.Y))\n",
    "        self.optimizer = tf.train.AdamOptimizer(learning_rate = learning_rate).minimize(self.cost)\n",
    "        correct_pred = tf.equal(tf.argmax(self.logits, 1), tf.argmax(self.Y, 1))\n",
    "        self.accuracy = tf.reduce_mean(tf.cast(correct_pred, tf.float32))"
   ]
  },
  {
   "cell_type": "code",
   "execution_count": 7,
   "metadata": {},
   "outputs": [],
   "source": [
    "residual_channels = 256\n",
    "encoder_dilations = [1,2,4,8,16,1,2,4,8,16]\n",
    "encoder_filter_width = 3\n",
    "dimension_output = len(trainset.target_names)\n",
    "batch_size = 128\n",
    "maxlen = 50"
   ]
  },
  {
   "cell_type": "code",
   "execution_count": 8,
   "metadata": {},
   "outputs": [],
   "source": [
    "tf.reset_default_graph()\n",
    "sess = tf.InteractiveSession()\n",
    "model = ByteNet(vocabulary_size+4, residual_channels, encoder_dilations, dimension_output,encoder_filter_width)\n",
    "sess.run(tf.global_variables_initializer())"
   ]
  },
  {
   "cell_type": "code",
   "execution_count": 9,
   "metadata": {},
   "outputs": [
    {
     "name": "stdout",
     "output_type": "stream",
     "text": [
      "epoch: 0, pass acc: 0.000000, current acc: 0.501465\n",
      "time taken: 58.430659770965576\n",
      "epoch: 0, training loss: 0.738264, training acc: 0.507931, valid loss: 0.697972, valid acc: 0.501465\n",
      "\n",
      "time taken: 55.704344749450684\n",
      "epoch: 1, training loss: 0.692507, training acc: 0.523674, valid loss: 0.699152, valid acc: 0.500977\n",
      "\n",
      "time taken: 55.707340717315674\n",
      "epoch: 2, training loss: 0.667141, training acc: 0.585701, valid loss: 0.762276, valid acc: 0.485352\n",
      "\n",
      "time taken: 55.716402530670166\n",
      "epoch: 3, training loss: 0.561747, training acc: 0.713305, valid loss: 0.942778, valid acc: 0.487305\n",
      "\n",
      "time taken: 55.73660635948181\n",
      "epoch: 4, training loss: 0.441831, training acc: 0.798532, valid loss: 1.124847, valid acc: 0.475098\n",
      "\n",
      "time taken: 55.73965406417847\n",
      "epoch: 5, training loss: 0.348817, training acc: 0.855114, valid loss: 1.305718, valid acc: 0.480957\n",
      "\n",
      "break epoch:6\n",
      "\n"
     ]
    }
   ],
   "source": [
    "EARLY_STOPPING, CURRENT_CHECKPOINT, CURRENT_ACC, EPOCH = 5, 0, 0, 0\n",
    "while True:\n",
    "    lasttime = time.time()\n",
    "    if CURRENT_CHECKPOINT == EARLY_STOPPING:\n",
    "        print('break epoch:%d\\n'%(EPOCH))\n",
    "        break\n",
    "        \n",
    "    train_acc, train_loss, test_acc, test_loss = 0, 0, 0, 0\n",
    "    for i in range(0, (len(train_X) // batch_size) * batch_size, batch_size):\n",
    "        batch_x = str_idx(train_X[i:i+batch_size],dictionary,maxlen)\n",
    "        acc, loss, _ = sess.run([model.accuracy, model.cost, model.optimizer], \n",
    "                           feed_dict = {model.X : batch_x, model.Y : train_onehot[i:i+batch_size]})\n",
    "        train_loss += loss\n",
    "        train_acc += acc\n",
    "    \n",
    "    for i in range(0, (len(test_X) // batch_size) * batch_size, batch_size):\n",
    "        batch_x = str_idx(test_X[i:i+batch_size],dictionary,maxlen)\n",
    "        acc, loss = sess.run([model.accuracy, model.cost], \n",
    "                           feed_dict = {model.X : batch_x, model.Y : train_onehot[i:i+batch_size]})\n",
    "        test_loss += loss\n",
    "        test_acc += acc\n",
    "    \n",
    "    train_loss /= (len(train_X) // batch_size)\n",
    "    train_acc /= (len(train_X) // batch_size)\n",
    "    test_loss /= (len(test_X) // batch_size)\n",
    "    test_acc /= (len(test_X) // batch_size)\n",
    "    \n",
    "    if test_acc > CURRENT_ACC:\n",
    "        print('epoch: %d, pass acc: %f, current acc: %f'%(EPOCH,CURRENT_ACC, test_acc))\n",
    "        CURRENT_ACC = test_acc\n",
    "        CURRENT_CHECKPOINT = 0\n",
    "    else:\n",
    "        CURRENT_CHECKPOINT += 1\n",
    "        \n",
    "    print('time taken:', time.time()-lasttime)\n",
    "    print('epoch: %d, training loss: %f, training acc: %f, valid loss: %f, valid acc: %f\\n'%(EPOCH,train_loss,\n",
    "                                                                                          train_acc,test_loss,\n",
    "                                                                                          test_acc))\n",
    "    EPOCH += 1"
   ]
  }
 ],
 "metadata": {
  "kernelspec": {
   "display_name": "Python 3",
   "language": "python",
   "name": "python3"
  },
  "language_info": {
   "codemirror_mode": {
    "name": "ipython",
    "version": 3
   },
   "file_extension": ".py",
   "mimetype": "text/x-python",
   "name": "python",
   "nbconvert_exporter": "python",
   "pygments_lexer": "ipython3",
   "version": "3.5.2"
  }
 },
 "nbformat": 4,
 "nbformat_minor": 2
}
