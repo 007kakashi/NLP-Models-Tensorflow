{
 "cells": [
  {
   "cell_type": "code",
   "execution_count": 1,
   "metadata": {},
   "outputs": [
    {
     "name": "stderr",
     "output_type": "stream",
     "text": [
      "/usr/local/lib/python3.5/dist-packages/h5py/__init__.py:36: FutureWarning: Conversion of the second argument of issubdtype from `float` to `np.floating` is deprecated. In future, it will be treated as `np.float64 == np.dtype(float).type`.\n",
      "  from ._conv import register_converters as _register_converters\n",
      "/usr/local/lib/python3.5/dist-packages/sklearn/cross_validation.py:41: DeprecationWarning: This module was deprecated in version 0.18 in favor of the model_selection module into which all the refactored classes and functions are moved. Also note that the interface of the new CV iterators are different from that of this module. This module will be removed in 0.20.\n",
      "  \"This module will be removed in 0.20.\", DeprecationWarning)\n"
     ]
    }
   ],
   "source": [
    "from utils import *\n",
    "import tensorflow as tf\n",
    "from sklearn.cross_validation import train_test_split\n",
    "import time"
   ]
  },
  {
   "cell_type": "code",
   "execution_count": 2,
   "metadata": {},
   "outputs": [
    {
     "name": "stdout",
     "output_type": "stream",
     "text": [
      "['negative', 'positive']\n",
      "10662\n",
      "10662\n"
     ]
    }
   ],
   "source": [
    "trainset = sklearn.datasets.load_files(container_path = 'data', encoding = 'UTF-8')\n",
    "trainset.data, trainset.target = separate_dataset(trainset,1.0)\n",
    "print (trainset.target_names)\n",
    "print (len(trainset.data))\n",
    "print (len(trainset.target))"
   ]
  },
  {
   "cell_type": "code",
   "execution_count": 3,
   "metadata": {},
   "outputs": [],
   "source": [
    "ONEHOT = np.zeros((len(trainset.data),len(trainset.target_names)))\n",
    "ONEHOT[np.arange(len(trainset.data)),trainset.target] = 1.0\n",
    "train_X, test_X, train_Y, test_Y, train_onehot, test_onehot = train_test_split(trainset.data, \n",
    "                                                                               trainset.target, \n",
    "                                                                               ONEHOT, test_size = 0.2)"
   ]
  },
  {
   "cell_type": "code",
   "execution_count": 4,
   "metadata": {},
   "outputs": [
    {
     "name": "stdout",
     "output_type": "stream",
     "text": [
      "vocab from size: 20465\n",
      "Most common words [('the', 10129), ('a', 7312), ('and', 6199), ('of', 6063), ('to', 4233), ('is', 3378)]\n",
      "Sample data [4, 660, 9, 2710, 8, 22, 4, 3718, 18585, 98] ['the', 'rock', 'is', 'destined', 'to', 'be', 'the', '21st', 'centurys', 'new']\n"
     ]
    }
   ],
   "source": [
    "concat = ' '.join(trainset.data).split()\n",
    "vocabulary_size = len(list(set(concat)))\n",
    "data, count, dictionary, rev_dictionary = build_dataset(concat, vocabulary_size)\n",
    "print('vocab from size: %d'%(vocabulary_size))\n",
    "print('Most common words', count[4:10])\n",
    "print('Sample data', data[:10], [rev_dictionary[i] for i in data[:10]])"
   ]
  },
  {
   "cell_type": "code",
   "execution_count": 5,
   "metadata": {},
   "outputs": [],
   "source": [
    "GO = dictionary['GO']\n",
    "PAD = dictionary['PAD']\n",
    "EOS = dictionary['EOS']\n",
    "UNK = dictionary['UNK']"
   ]
  },
  {
   "cell_type": "code",
   "execution_count": 6,
   "metadata": {},
   "outputs": [],
   "source": [
    "def embed_seq(inputs, vocab_size=None, embed_dim=None, zero_pad=False, scale=False):\n",
    "    lookup_table = tf.get_variable('lookup_table', dtype=tf.float32, shape=[vocab_size, embed_dim])\n",
    "    if zero_pad:\n",
    "        lookup_table = tf.concat((tf.zeros([1, embed_dim]), lookup_table[1:, :]), axis=0)\n",
    "    outputs = tf.nn.embedding_lookup(lookup_table, inputs)\n",
    "    if scale:\n",
    "        outputs = outputs * (embed_dim ** 0.5)\n",
    "    return outputs\n",
    "\n",
    "def learned_positional_encoding(inputs, embed_dim, zero_pad=False, scale=False):\n",
    "    T = inputs.get_shape().as_list()[1]\n",
    "    outputs = tf.range(T) \n",
    "    outputs = tf.expand_dims(outputs, 0)\n",
    "    outputs = tf.tile(outputs, [tf.shape(inputs)[0], 1])\n",
    "    return embed_seq(outputs, T, embed_dim, zero_pad=zero_pad, scale=scale)\n",
    "\n",
    "def layer_norm(inputs, epsilon=1e-8):\n",
    "    mean, variance = tf.nn.moments(inputs, [-1], keep_dims=True)\n",
    "    normalized = (inputs - mean) / (tf.sqrt(variance + epsilon))\n",
    "    params_shape = inputs.get_shape()[-1:]\n",
    "    gamma = tf.get_variable('gamma', params_shape, tf.float32, tf.ones_initializer())\n",
    "    beta = tf.get_variable('beta', params_shape, tf.float32, tf.zeros_initializer())\n",
    "    return gamma * normalized + beta\n",
    "\n",
    "def pointwise_feedforward(inputs, num_units=[None, None], activation=None):\n",
    "    outputs = tf.layers.conv1d(inputs, num_units[0], kernel_size=1, activation=activation)\n",
    "    outputs = tf.layers.conv1d(outputs, num_units[1], kernel_size=1, activation=None)\n",
    "    outputs += inputs\n",
    "    outputs = layer_norm(outputs)\n",
    "    return outputs\n",
    "\n",
    "class Model:\n",
    "    def __init__(self, dict_size, dimension_input, dimension_output, seq_len,\n",
    "                 learning_rate, num_heads=8, attn_windows=range(1, 6)):\n",
    "        self.size_layer = dimension_input\n",
    "        self.num_heads = num_heads\n",
    "        self.seq_len = seq_len\n",
    "        self.X = tf.placeholder(tf.int32, [None, seq_len])\n",
    "        self.Y = tf.placeholder(tf.float32, [None, dimension_output])\n",
    "        encoder_embeddings = tf.Variable(tf.random_uniform([dict_size, dimension_input], -1, 1))\n",
    "        feed = tf.nn.embedding_lookup(encoder_embeddings, self.X)\n",
    "        for i, win_size in enumerate(attn_windows):\n",
    "            with tf.variable_scope('attn_masked_window_%d' % win_size):\n",
    "                feed = self.multihead_attn(feed, self.window_mask(win_size))\n",
    "        feed += learned_positional_encoding(feed, dimension_input)\n",
    "        with tf.variable_scope('multihead'):\n",
    "            feed = self.multihead_attn(feed, None)\n",
    "        with tf.variable_scope('pointwise'):\n",
    "            feed = pointwise_feedforward(feed, num_units=[4*dimension_input, \n",
    "                                                          dimension_input], activation=tf.nn.relu)\n",
    "        self.logits = tf.layers.dense(feed, dimension_output)[:,-1]\n",
    "        self.cost = tf.reduce_mean(tf.nn.softmax_cross_entropy_with_logits(logits = self.logits, labels = self.Y))\n",
    "        self.optimizer = tf.train.AdamOptimizer(learning_rate = learning_rate).minimize(self.cost)\n",
    "        self.correct_pred = tf.equal(tf.argmax(self.logits, 1), tf.argmax(self.Y, 1))\n",
    "        self.accuracy = tf.reduce_mean(tf.cast(self.correct_pred, tf.float32))\n",
    "        \n",
    "    def multihead_attn(self, inputs, masks):\n",
    "        T_q = T_k = inputs.get_shape().as_list()[1]           \n",
    "        Q_K_V = tf.layers.dense(inputs, 3*self.size_layer, tf.nn.relu)\n",
    "        Q, K, V = tf.split(Q_K_V, 3, -1)\n",
    "        Q_ = tf.concat(tf.split(Q, self.num_heads, axis=2), axis=0)\n",
    "        K_ = tf.concat(tf.split(K, self.num_heads, axis=2), axis=0)\n",
    "        V_ = tf.concat(tf.split(V, self.num_heads, axis=2), axis=0)\n",
    "        align = tf.matmul(Q_, tf.transpose(K_, [0,2,1]))\n",
    "        align = align / np.sqrt(K_.get_shape().as_list()[-1])\n",
    "        if masks is not None:\n",
    "            paddings = tf.fill(tf.shape(align), float('-inf'))                         \n",
    "            align = tf.where(tf.equal(masks, 0), paddings, align) \n",
    "        align = tf.nn.softmax(align)\n",
    "        outputs = tf.matmul(align, V_)\n",
    "        outputs = tf.concat(tf.split(outputs, self.num_heads, axis=0), axis=2)\n",
    "        outputs += inputs                \n",
    "        return layer_norm(outputs)\n",
    "        \n",
    "    def window_mask(self, h_w):\n",
    "        masks = np.zeros([self.seq_len, self.seq_len])\n",
    "        for i in range(self.seq_len):\n",
    "            if i < h_w:\n",
    "                masks[i, :i+h_w+1] = 1.\n",
    "            elif i > self.seq_len - h_w - 1:\n",
    "                masks[i, i-h_w:] = 1.\n",
    "            else:                                                             \n",
    "                masks[i, i-h_w:i+h_w+1] = 1.\n",
    "        masks = tf.convert_to_tensor(masks)\n",
    "        return tf.tile(tf.expand_dims(masks,0), [tf.shape(self.X)[0]*self.num_heads, 1, 1])"
   ]
  },
  {
   "cell_type": "code",
   "execution_count": 7,
   "metadata": {},
   "outputs": [],
   "source": [
    "embedded_size = 128\n",
    "dimension_output = len(trainset.target_names)\n",
    "learning_rate = 1e-3\n",
    "maxlen = 50\n",
    "batch_size = 128"
   ]
  },
  {
   "cell_type": "code",
   "execution_count": 8,
   "metadata": {},
   "outputs": [],
   "source": [
    "tf.reset_default_graph()\n",
    "sess = tf.InteractiveSession()\n",
    "model = Model(vocabulary_size+4,embedded_size,dimension_output,maxlen,learning_rate)\n",
    "sess.run(tf.global_variables_initializer())"
   ]
  },
  {
   "cell_type": "code",
   "execution_count": 9,
   "metadata": {},
   "outputs": [
    {
     "name": "stdout",
     "output_type": "stream",
     "text": [
      "epoch: 0, pass acc: 0.000000, current acc: 0.514648\n",
      "time taken: 9.320879220962524\n",
      "epoch: 0, training loss: 0.768056, training acc: 0.529119, valid loss: 0.719504, valid acc: 0.514648\n",
      "\n",
      "epoch: 1, pass acc: 0.514648, current acc: 0.522461\n",
      "time taken: 8.979182720184326\n",
      "epoch: 1, training loss: 0.608988, training acc: 0.661932, valid loss: 0.810189, valid acc: 0.522461\n",
      "\n",
      "epoch: 2, pass acc: 0.522461, current acc: 0.523438\n",
      "time taken: 8.979176759719849\n",
      "epoch: 2, training loss: 0.431500, training acc: 0.799716, valid loss: 1.155975, valid acc: 0.523438\n",
      "\n",
      "time taken: 8.991833448410034\n",
      "epoch: 3, training loss: 0.194140, training acc: 0.923414, valid loss: 1.813089, valid acc: 0.505371\n",
      "\n",
      "time taken: 8.995327472686768\n",
      "epoch: 4, training loss: 0.103037, training acc: 0.961529, valid loss: 2.494393, valid acc: 0.505371\n",
      "\n",
      "time taken: 8.99964690208435\n",
      "epoch: 5, training loss: 0.159832, training acc: 0.939394, valid loss: 2.369041, valid acc: 0.520996\n",
      "\n",
      "time taken: 8.993063688278198\n",
      "epoch: 6, training loss: 0.082700, training acc: 0.967093, valid loss: 2.506806, valid acc: 0.504395\n",
      "\n",
      "time taken: 8.992580652236938\n",
      "epoch: 7, training loss: 0.012746, training acc: 0.995739, valid loss: 2.753423, valid acc: 0.503906\n",
      "\n",
      "break epoch:8\n",
      "\n"
     ]
    }
   ],
   "source": [
    "EARLY_STOPPING, CURRENT_CHECKPOINT, CURRENT_ACC, EPOCH = 5, 0, 0, 0\n",
    "while True:\n",
    "    lasttime = time.time()\n",
    "    if CURRENT_CHECKPOINT == EARLY_STOPPING:\n",
    "        print('break epoch:%d\\n'%(EPOCH))\n",
    "        break\n",
    "        \n",
    "    train_acc, train_loss, test_acc, test_loss = 0, 0, 0, 0\n",
    "    for i in range(0, (len(train_X) // batch_size) * batch_size, batch_size):\n",
    "        batch_x = str_idx(train_X[i:i+batch_size],dictionary,maxlen)\n",
    "        acc, loss, _ = sess.run([model.accuracy, model.cost, model.optimizer], \n",
    "                           feed_dict = {model.X : batch_x, model.Y : train_onehot[i:i+batch_size]})\n",
    "        train_loss += loss\n",
    "        train_acc += acc\n",
    "    \n",
    "    for i in range(0, (len(test_X) // batch_size) * batch_size, batch_size):\n",
    "        batch_x = str_idx(test_X[i:i+batch_size],dictionary,maxlen)\n",
    "        acc, loss = sess.run([model.accuracy, model.cost], \n",
    "                           feed_dict = {model.X : batch_x, model.Y : train_onehot[i:i+batch_size]})\n",
    "        test_loss += loss\n",
    "        test_acc += acc\n",
    "    \n",
    "    train_loss /= (len(train_X) // batch_size)\n",
    "    train_acc /= (len(train_X) // batch_size)\n",
    "    test_loss /= (len(test_X) // batch_size)\n",
    "    test_acc /= (len(test_X) // batch_size)\n",
    "    \n",
    "    if test_acc > CURRENT_ACC:\n",
    "        print('epoch: %d, pass acc: %f, current acc: %f'%(EPOCH,CURRENT_ACC, test_acc))\n",
    "        CURRENT_ACC = test_acc\n",
    "        CURRENT_CHECKPOINT = 0\n",
    "    else:\n",
    "        CURRENT_CHECKPOINT += 1\n",
    "        \n",
    "    print('time taken:', time.time()-lasttime)\n",
    "    print('epoch: %d, training loss: %f, training acc: %f, valid loss: %f, valid acc: %f\\n'%(EPOCH,train_loss,\n",
    "                                                                                          train_acc,test_loss,\n",
    "                                                                                          test_acc))\n",
    "    EPOCH += 1"
   ]
  },
  {
   "cell_type": "code",
   "execution_count": 10,
   "metadata": {},
   "outputs": [
    {
     "name": "stdout",
     "output_type": "stream",
     "text": [
      "             precision    recall  f1-score   support\n",
      "\n",
      "   negative       0.65      0.73      0.69      1070\n",
      "   positive       0.69      0.61      0.65      1063\n",
      "\n",
      "avg / total       0.67      0.67      0.67      2133\n",
      "\n"
     ]
    }
   ],
   "source": [
    "logits = sess.run(model.logits, feed_dict={model.X:str_idx(test_X,dictionary,maxlen)})\n",
    "print(metrics.classification_report(test_Y, np.argmax(logits,1), target_names = trainset.target_names))"
   ]
  }
 ],
 "metadata": {
  "kernelspec": {
   "display_name": "Python 3",
   "language": "python",
   "name": "python3"
  },
  "language_info": {
   "codemirror_mode": {
    "name": "ipython",
    "version": 3
   },
   "file_extension": ".py",
   "mimetype": "text/x-python",
   "name": "python",
   "nbconvert_exporter": "python",
   "pygments_lexer": "ipython3",
   "version": "3.5.2"
  }
 },
 "nbformat": 4,
 "nbformat_minor": 2
}
