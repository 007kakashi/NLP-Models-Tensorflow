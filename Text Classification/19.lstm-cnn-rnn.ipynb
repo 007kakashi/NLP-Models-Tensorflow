{
 "cells": [
  {
   "cell_type": "code",
   "execution_count": 1,
   "metadata": {},
   "outputs": [
    {
     "name": "stderr",
     "output_type": "stream",
     "text": [
      "/usr/local/lib/python3.5/dist-packages/h5py/__init__.py:36: FutureWarning: Conversion of the second argument of issubdtype from `float` to `np.floating` is deprecated. In future, it will be treated as `np.float64 == np.dtype(float).type`.\n",
      "  from ._conv import register_converters as _register_converters\n",
      "/usr/local/lib/python3.5/dist-packages/sklearn/cross_validation.py:41: DeprecationWarning: This module was deprecated in version 0.18 in favor of the model_selection module into which all the refactored classes and functions are moved. Also note that the interface of the new CV iterators are different from that of this module. This module will be removed in 0.20.\n",
      "  \"This module will be removed in 0.20.\", DeprecationWarning)\n"
     ]
    }
   ],
   "source": [
    "from utils import *\n",
    "import tensorflow as tf\n",
    "from sklearn.cross_validation import train_test_split\n",
    "import time"
   ]
  },
  {
   "cell_type": "code",
   "execution_count": 2,
   "metadata": {},
   "outputs": [
    {
     "name": "stdout",
     "output_type": "stream",
     "text": [
      "['negative', 'positive']\n",
      "10662\n",
      "10662\n"
     ]
    }
   ],
   "source": [
    "trainset = sklearn.datasets.load_files(container_path = 'data', encoding = 'UTF-8')\n",
    "trainset.data, trainset.target = separate_dataset(trainset,1.0)\n",
    "print (trainset.target_names)\n",
    "print (len(trainset.data))\n",
    "print (len(trainset.target))"
   ]
  },
  {
   "cell_type": "code",
   "execution_count": 3,
   "metadata": {},
   "outputs": [],
   "source": [
    "ONEHOT = np.zeros((len(trainset.data),len(trainset.target_names)))\n",
    "ONEHOT[np.arange(len(trainset.data)),trainset.target] = 1.0\n",
    "train_X, test_X, train_Y, test_Y, train_onehot, test_onehot = train_test_split(trainset.data, \n",
    "                                                                               trainset.target, \n",
    "                                                                               ONEHOT, test_size = 0.2)"
   ]
  },
  {
   "cell_type": "code",
   "execution_count": 4,
   "metadata": {},
   "outputs": [
    {
     "name": "stdout",
     "output_type": "stream",
     "text": [
      "vocab from size: 20465\n",
      "Most common words [('the', 10129), ('a', 7312), ('and', 6199), ('of', 6063), ('to', 4233), ('is', 3378)]\n",
      "Sample data [4, 650, 9, 2804, 8, 22, 4, 3437, 17071, 98] ['the', 'rock', 'is', 'destined', 'to', 'be', 'the', '21st', 'centurys', 'new']\n"
     ]
    }
   ],
   "source": [
    "concat = ' '.join(trainset.data).split()\n",
    "vocabulary_size = len(list(set(concat)))\n",
    "data, count, dictionary, rev_dictionary = build_dataset(concat, vocabulary_size)\n",
    "print('vocab from size: %d'%(vocabulary_size))\n",
    "print('Most common words', count[4:10])\n",
    "print('Sample data', data[:10], [rev_dictionary[i] for i in data[:10]])"
   ]
  },
  {
   "cell_type": "code",
   "execution_count": 5,
   "metadata": {},
   "outputs": [],
   "source": [
    "GO = dictionary['GO']\n",
    "PAD = dictionary['PAD']\n",
    "EOS = dictionary['EOS']\n",
    "UNK = dictionary['UNK']"
   ]
  },
  {
   "cell_type": "code",
   "execution_count": 9,
   "metadata": {},
   "outputs": [],
   "source": [
    "class Model:\n",
    "    def __init__(self, size_layer, num_layers, embedded_size,\n",
    "                 dict_size, dimension_output, learning_rate,\n",
    "                filter_sizes, pooling_size):\n",
    "        \n",
    "        def cells(reuse=False):\n",
    "            return tf.nn.rnn_cell.LSTMCell(size_layer,initializer=tf.orthogonal_initializer(),reuse=reuse)\n",
    "        \n",
    "        self.X = tf.placeholder(tf.int32, [None, None])\n",
    "        self.Y = tf.placeholder(tf.float32, [None, dimension_output])\n",
    "        encoder_embeddings = tf.Variable(tf.random_uniform([dict_size, embedded_size], -1, 1))\n",
    "        encoder_embedded = tf.nn.embedding_lookup(encoder_embeddings, self.X)\n",
    "        encoder_embedded = tf.expand_dims(encoder_embedded,-1)\n",
    "        \n",
    "        pooled_outputs = []\n",
    "        reduce_size = int(np.ceil(maxlen / pooling_size))\n",
    "        for i in filter_sizes:\n",
    "            w = tf.Variable(tf.truncated_normal([i, embedded_size, 1, dimension_output], stddev=0.1))\n",
    "            b = tf.Variable(tf.truncated_normal([dimension_output], stddev = 0.01))\n",
    "            conv = tf.nn.relu(tf.nn.conv2d(encoder_embedded, w, strides=[1, 1, 1, 1],padding=\"VALID\") + b)\n",
    "            pooled = tf.nn.max_pool(conv,ksize=[1, pooling_size, 1, 1],\n",
    "                                    strides=[1, pooling_size, 1, 1],padding='VALID')\n",
    "            pooled = tf.reshape(pooled, [-1, reduce_size -1, dimension_output])\n",
    "            pooled_outputs.append(pooled)\n",
    "        h_pool = tf.concat(pooled_outputs, 2)\n",
    "        \n",
    "        rnn_cells = tf.nn.rnn_cell.MultiRNNCell([cells() for _ in range(num_layers)])\n",
    "        outputs, _ = tf.nn.dynamic_rnn(rnn_cells, h_pool, dtype = tf.float32)\n",
    "        W = tf.get_variable('w',shape=(size_layer, dimension_output),initializer=tf.orthogonal_initializer())\n",
    "        b = tf.get_variable('b',shape=(dimension_output),initializer=tf.zeros_initializer())\n",
    "        self.logits = tf.matmul(outputs[:, -1], W) + b\n",
    "        self.cost = tf.reduce_mean(tf.nn.softmax_cross_entropy_with_logits(logits = self.logits, labels = self.Y))\n",
    "        self.optimizer = tf.train.AdamOptimizer(learning_rate = learning_rate).minimize(self.cost)\n",
    "        correct_pred = tf.equal(tf.argmax(self.logits, 1), tf.argmax(self.Y, 1))\n",
    "        self.accuracy = tf.reduce_mean(tf.cast(correct_pred, tf.float32))"
   ]
  },
  {
   "cell_type": "code",
   "execution_count": 10,
   "metadata": {},
   "outputs": [],
   "source": [
    "size_layer = 128\n",
    "num_layers = 2\n",
    "embedded_size = 128\n",
    "dimension_output = len(trainset.target_names)\n",
    "learning_rate = 1e-3\n",
    "maxlen = 50\n",
    "batch_size = 128"
   ]
  },
  {
   "cell_type": "code",
   "execution_count": 11,
   "metadata": {},
   "outputs": [],
   "source": [
    "tf.reset_default_graph()\n",
    "sess = tf.InteractiveSession()\n",
    "model = Model(size_layer,num_layers,embedded_size,vocabulary_size+4,dimension_output,learning_rate,\n",
    "             [3, 3, 3], 5)\n",
    "sess.run(tf.global_variables_initializer())"
   ]
  },
  {
   "cell_type": "code",
   "execution_count": 12,
   "metadata": {},
   "outputs": [
    {
     "name": "stdout",
     "output_type": "stream",
     "text": [
      "epoch: 0, pass acc: 0.000000, current acc: 0.499512\n",
      "time taken: 1.4983229637145996\n",
      "epoch: 0, training loss: 0.693355, training acc: 0.513731, valid loss: 0.693499, valid acc: 0.499512\n",
      "\n",
      "epoch: 1, pass acc: 0.499512, current acc: 0.505371\n",
      "time taken: 0.9824168682098389\n",
      "epoch: 1, training loss: 0.654662, training acc: 0.609020, valid loss: 0.749129, valid acc: 0.505371\n",
      "\n",
      "epoch: 2, pass acc: 0.505371, current acc: 0.505859\n",
      "time taken: 0.9866766929626465\n",
      "epoch: 2, training loss: 0.526658, training acc: 0.727983, valid loss: 0.938339, valid acc: 0.505859\n",
      "\n",
      "epoch: 3, pass acc: 0.505859, current acc: 0.508301\n",
      "time taken: 0.9861867427825928\n",
      "epoch: 3, training loss: 0.375685, training acc: 0.824929, valid loss: 1.361618, valid acc: 0.508301\n",
      "\n",
      "time taken: 0.9871969223022461\n",
      "epoch: 4, training loss: 0.244094, training acc: 0.893348, valid loss: 1.976168, valid acc: 0.506836\n",
      "\n",
      "epoch: 5, pass acc: 0.508301, current acc: 0.510254\n",
      "time taken: 0.9893572330474854\n",
      "epoch: 5, training loss: 0.158972, training acc: 0.933475, valid loss: 2.151116, valid acc: 0.510254\n",
      "\n",
      "time taken: 0.9869489669799805\n",
      "epoch: 6, training loss: 0.126299, training acc: 0.947088, valid loss: 2.221275, valid acc: 0.506836\n",
      "\n",
      "epoch: 7, pass acc: 0.510254, current acc: 0.517578\n",
      "time taken: 0.9851434230804443\n",
      "epoch: 7, training loss: 0.092559, training acc: 0.959517, valid loss: 2.848684, valid acc: 0.517578\n",
      "\n",
      "time taken: 0.987015962600708\n",
      "epoch: 8, training loss: 0.063236, training acc: 0.971354, valid loss: 3.083253, valid acc: 0.511230\n",
      "\n",
      "epoch: 9, pass acc: 0.517578, current acc: 0.518066\n",
      "time taken: 0.986048698425293\n",
      "epoch: 9, training loss: 0.043223, training acc: 0.977865, valid loss: 4.009145, valid acc: 0.518066\n",
      "\n",
      "time taken: 0.9871716499328613\n",
      "epoch: 10, training loss: 0.038266, training acc: 0.981416, valid loss: 4.782433, valid acc: 0.510742\n",
      "\n",
      "time taken: 0.9886395931243896\n",
      "epoch: 11, training loss: 0.033025, training acc: 0.983783, valid loss: 4.968219, valid acc: 0.510742\n",
      "\n",
      "time taken: 0.986919641494751\n",
      "epoch: 12, training loss: 0.029561, training acc: 0.983191, valid loss: 5.224922, valid acc: 0.508301\n",
      "\n",
      "time taken: 0.9882729053497314\n",
      "epoch: 13, training loss: 0.027077, training acc: 0.984020, valid loss: 5.563879, valid acc: 0.509766\n",
      "\n",
      "time taken: 0.9876248836517334\n",
      "epoch: 14, training loss: 0.025422, training acc: 0.984138, valid loss: 5.863927, valid acc: 0.507812\n",
      "\n",
      "break epoch:15\n",
      "\n"
     ]
    }
   ],
   "source": [
    "EARLY_STOPPING, CURRENT_CHECKPOINT, CURRENT_ACC, EPOCH = 5, 0, 0, 0\n",
    "while True:\n",
    "    lasttime = time.time()\n",
    "    if CURRENT_CHECKPOINT == EARLY_STOPPING:\n",
    "        print('break epoch:%d\\n'%(EPOCH))\n",
    "        break\n",
    "        \n",
    "    train_acc, train_loss, test_acc, test_loss = 0, 0, 0, 0\n",
    "    for i in range(0, (len(train_X) // batch_size) * batch_size, batch_size):\n",
    "        batch_x = str_idx(train_X[i:i+batch_size],dictionary,maxlen)\n",
    "        acc, loss, _ = sess.run([model.accuracy, model.cost, model.optimizer], \n",
    "                           feed_dict = {model.X : batch_x, model.Y : train_onehot[i:i+batch_size]})\n",
    "        train_loss += loss\n",
    "        train_acc += acc\n",
    "    \n",
    "    for i in range(0, (len(test_X) // batch_size) * batch_size, batch_size):\n",
    "        batch_x = str_idx(test_X[i:i+batch_size],dictionary,maxlen)\n",
    "        acc, loss = sess.run([model.accuracy, model.cost], \n",
    "                           feed_dict = {model.X : batch_x, model.Y : train_onehot[i:i+batch_size]})\n",
    "        test_loss += loss\n",
    "        test_acc += acc\n",
    "    \n",
    "    train_loss /= (len(train_X) // batch_size)\n",
    "    train_acc /= (len(train_X) // batch_size)\n",
    "    test_loss /= (len(test_X) // batch_size)\n",
    "    test_acc /= (len(test_X) // batch_size)\n",
    "    \n",
    "    if test_acc > CURRENT_ACC:\n",
    "        print('epoch: %d, pass acc: %f, current acc: %f'%(EPOCH,CURRENT_ACC, test_acc))\n",
    "        CURRENT_ACC = test_acc\n",
    "        CURRENT_CHECKPOINT = 0\n",
    "    else:\n",
    "        CURRENT_CHECKPOINT += 1\n",
    "        \n",
    "    print('time taken:', time.time()-lasttime)\n",
    "    print('epoch: %d, training loss: %f, training acc: %f, valid loss: %f, valid acc: %f\\n'%(EPOCH,train_loss,\n",
    "                                                                                          train_acc,test_loss,\n",
    "                                                                                          test_acc))\n",
    "    EPOCH += 1"
   ]
  },
  {
   "cell_type": "code",
   "execution_count": 13,
   "metadata": {},
   "outputs": [
    {
     "name": "stdout",
     "output_type": "stream",
     "text": [
      "             precision    recall  f1-score   support\n",
      "\n",
      "   negative       0.66      0.59      0.63      1055\n",
      "   positive       0.64      0.71      0.67      1078\n",
      "\n",
      "avg / total       0.65      0.65      0.65      2133\n",
      "\n"
     ]
    }
   ],
   "source": [
    "logits = sess.run(model.logits, feed_dict={model.X:str_idx(test_X,dictionary,maxlen)})\n",
    "print(metrics.classification_report(test_Y, np.argmax(logits,1), target_names = trainset.target_names))"
   ]
  },
  {
   "cell_type": "code",
   "execution_count": null,
   "metadata": {},
   "outputs": [],
   "source": []
  }
 ],
 "metadata": {
  "kernelspec": {
   "display_name": "Python 3",
   "language": "python",
   "name": "python3"
  },
  "language_info": {
   "codemirror_mode": {
    "name": "ipython",
    "version": 3
   },
   "file_extension": ".py",
   "mimetype": "text/x-python",
   "name": "python",
   "nbconvert_exporter": "python",
   "pygments_lexer": "ipython3",
   "version": "3.5.2"
  }
 },
 "nbformat": 4,
 "nbformat_minor": 2
}
