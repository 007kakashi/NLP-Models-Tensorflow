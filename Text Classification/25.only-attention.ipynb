{
 "cells": [
  {
   "cell_type": "code",
   "execution_count": 2,
   "metadata": {},
   "outputs": [],
   "source": [
    "from utils import *\n",
    "import tensorflow as tf\n",
    "from sklearn.cross_validation import train_test_split\n",
    "import time"
   ]
  },
  {
   "cell_type": "code",
   "execution_count": 3,
   "metadata": {},
   "outputs": [
    {
     "name": "stdout",
     "output_type": "stream",
     "text": [
      "['negative', 'positive']\n",
      "10662\n",
      "10662\n"
     ]
    }
   ],
   "source": [
    "trainset = sklearn.datasets.load_files(container_path = 'data', encoding = 'UTF-8')\n",
    "trainset.data, trainset.target = separate_dataset(trainset,1.0)\n",
    "print (trainset.target_names)\n",
    "print (len(trainset.data))\n",
    "print (len(trainset.target))"
   ]
  },
  {
   "cell_type": "code",
   "execution_count": 4,
   "metadata": {},
   "outputs": [],
   "source": [
    "ONEHOT = np.zeros((len(trainset.data),len(trainset.target_names)))\n",
    "ONEHOT[np.arange(len(trainset.data)),trainset.target] = 1.0\n",
    "train_X, test_X, train_Y, test_Y, train_onehot, test_onehot = train_test_split(trainset.data, \n",
    "                                                                               trainset.target, \n",
    "                                                                               ONEHOT, test_size = 0.2)"
   ]
  },
  {
   "cell_type": "code",
   "execution_count": 5,
   "metadata": {},
   "outputs": [
    {
     "name": "stdout",
     "output_type": "stream",
     "text": [
      "vocab from size: 20465\n",
      "Most common words [('the', 10129), ('a', 7312), ('and', 6199), ('of', 6063), ('to', 4233), ('is', 3378)]\n",
      "Sample data [4, 673, 9, 2595, 8, 22, 4, 3446, 13548, 97] ['the', 'rock', 'is', 'destined', 'to', 'be', 'the', '21st', 'centurys', 'new']\n"
     ]
    }
   ],
   "source": [
    "concat = ' '.join(trainset.data).split()\n",
    "vocabulary_size = len(list(set(concat)))\n",
    "data, count, dictionary, rev_dictionary = build_dataset(concat, vocabulary_size)\n",
    "print('vocab from size: %d'%(vocabulary_size))\n",
    "print('Most common words', count[4:10])\n",
    "print('Sample data', data[:10], [rev_dictionary[i] for i in data[:10]])"
   ]
  },
  {
   "cell_type": "code",
   "execution_count": 6,
   "metadata": {},
   "outputs": [],
   "source": [
    "GO = dictionary['GO']\n",
    "PAD = dictionary['PAD']\n",
    "EOS = dictionary['EOS']\n",
    "UNK = dictionary['UNK']"
   ]
  },
  {
   "cell_type": "code",
   "execution_count": 10,
   "metadata": {},
   "outputs": [],
   "source": [
    "def sinusoidal_positional_encoding(inputs, num_units, zero_pad=False, scale=False):\n",
    "    T = inputs.get_shape().as_list()[1]\n",
    "    position_idx = tf.tile(tf.expand_dims(tf.range(T), 0), [tf.shape(inputs)[0], 1])\n",
    "    position_enc = np.array([[pos / np.power(10000, 2.*i/num_units) for i in range(num_units)] for pos in range(T)])\n",
    "    position_enc[:, 0::2] = np.sin(position_enc[:, 0::2])\n",
    "    position_enc[:, 1::2] = np.cos(position_enc[:, 1::2])\n",
    "    lookup_table = tf.convert_to_tensor(position_enc, tf.float32)\n",
    "    if zero_pad:\n",
    "        lookup_table = tf.concat([tf.zeros([1, num_units]), lookup_table[1:, :]], axis=0)\n",
    "    outputs = tf.nn.embedding_lookup(lookup_table, position_idx)\n",
    "    if scale:\n",
    "        outputs = outputs * num_units ** 0.5\n",
    "    return outputs\n",
    "\n",
    "class Model:\n",
    "    def __init__(self, seq_len, dict_size, dimension_input, dimension_output, learning_rate):\n",
    "        self.X = tf.placeholder(tf.int32, [None, seq_len])\n",
    "        self.Y = tf.placeholder(tf.float32, [None, dimension_output])\n",
    "        encoder_embeddings = tf.Variable(tf.random_uniform([dict_size, dimension_input], -1, 1))\n",
    "        encoder_embedded = tf.nn.embedding_lookup(encoder_embeddings, self.X)\n",
    "        x = encoder_embedded\n",
    "        x += sinusoidal_positional_encoding(x, dimension_input)\n",
    "        masks = tf.sign(encoder_embedded[:,:,0])\n",
    "        align = tf.squeeze(tf.layers.dense(x, 1, tf.tanh), -1)\n",
    "        paddings = tf.fill(tf.shape(align), float('-inf'))\n",
    "        align = tf.where(tf.equal(masks, 0), paddings, align)\n",
    "        align = tf.expand_dims(tf.nn.softmax(align), -1)\n",
    "        x = tf.squeeze(tf.matmul(tf.transpose(x, [0,2,1]), align), -1)\n",
    "        self.logits = tf.layers.dense(x, dimension_output)\n",
    "        self.cost = tf.reduce_mean(tf.nn.softmax_cross_entropy_with_logits(logits = self.logits, labels = self.Y))\n",
    "        self.optimizer = tf.train.AdamOptimizer(learning_rate = learning_rate).minimize(self.cost)\n",
    "        self.correct_pred = tf.equal(tf.argmax(self.logits, 1), tf.argmax(self.Y, 1))\n",
    "        self.accuracy = tf.reduce_mean(tf.cast(self.correct_pred, tf.float32))"
   ]
  },
  {
   "cell_type": "code",
   "execution_count": 8,
   "metadata": {},
   "outputs": [],
   "source": [
    "size_layer = 128\n",
    "num_layers = 2\n",
    "embedded_size = 128\n",
    "dimension_output = len(trainset.target_names)\n",
    "learning_rate = 1e-3\n",
    "maxlen = 50\n",
    "batch_size = 128"
   ]
  },
  {
   "cell_type": "code",
   "execution_count": 11,
   "metadata": {},
   "outputs": [],
   "source": [
    "tf.reset_default_graph()\n",
    "sess = tf.InteractiveSession()\n",
    "model = Model(maxlen,vocabulary_size+4,embedded_size,dimension_output,learning_rate)\n",
    "sess.run(tf.global_variables_initializer())"
   ]
  },
  {
   "cell_type": "code",
   "execution_count": 12,
   "metadata": {},
   "outputs": [
    {
     "name": "stdout",
     "output_type": "stream",
     "text": [
      "epoch: 0, pass acc: 0.000000, current acc: 0.504883\n",
      "time taken: 0.6233022212982178\n",
      "epoch: 0, training loss: 0.693716, training acc: 0.544271, valid loss: 0.696882, valid acc: 0.504883\n",
      "\n",
      "epoch: 1, pass acc: 0.504883, current acc: 0.508789\n",
      "time taken: 0.48488831520080566\n",
      "epoch: 1, training loss: 0.652197, training acc: 0.646188, valid loss: 0.702238, valid acc: 0.508789\n",
      "\n",
      "time taken: 0.4784231185913086\n",
      "epoch: 2, training loss: 0.609688, training acc: 0.720999, valid loss: 0.713468, valid acc: 0.505859\n",
      "\n",
      "time taken: 0.4769303798675537\n",
      "epoch: 3, training loss: 0.561254, training acc: 0.772609, valid loss: 0.730455, valid acc: 0.503906\n",
      "\n",
      "epoch: 4, pass acc: 0.508789, current acc: 0.510742\n",
      "time taken: 0.47922420501708984\n",
      "epoch: 4, training loss: 0.504043, training acc: 0.819602, valid loss: 0.753088, valid acc: 0.510742\n",
      "\n",
      "epoch: 5, pass acc: 0.510742, current acc: 0.515137\n",
      "time taken: 0.47788476943969727\n",
      "epoch: 5, training loss: 0.442300, training acc: 0.855232, valid loss: 0.790473, valid acc: 0.515137\n",
      "\n",
      "epoch: 6, pass acc: 0.515137, current acc: 0.518555\n",
      "time taken: 0.4810945987701416\n",
      "epoch: 6, training loss: 0.383898, training acc: 0.882576, valid loss: 0.835934, valid acc: 0.518555\n",
      "\n",
      "time taken: 0.480623722076416\n",
      "epoch: 7, training loss: 0.331623, training acc: 0.902225, valid loss: 0.885741, valid acc: 0.517090\n",
      "\n",
      "time taken: 0.4749338626861572\n",
      "epoch: 8, training loss: 0.286310, training acc: 0.918916, valid loss: 0.937989, valid acc: 0.515137\n",
      "\n",
      "time taken: 0.48088693618774414\n",
      "epoch: 9, training loss: 0.247700, training acc: 0.934067, valid loss: 0.989895, valid acc: 0.513184\n",
      "\n",
      "time taken: 0.4773247241973877\n",
      "epoch: 10, training loss: 0.215041, training acc: 0.946733, valid loss: 1.039982, valid acc: 0.510742\n",
      "\n",
      "time taken: 0.47605276107788086\n",
      "epoch: 11, training loss: 0.187256, training acc: 0.955374, valid loss: 1.088790, valid acc: 0.508301\n",
      "\n",
      "break epoch:12\n",
      "\n"
     ]
    }
   ],
   "source": [
    "EARLY_STOPPING, CURRENT_CHECKPOINT, CURRENT_ACC, EPOCH = 5, 0, 0, 0\n",
    "while True:\n",
    "    lasttime = time.time()\n",
    "    if CURRENT_CHECKPOINT == EARLY_STOPPING:\n",
    "        print('break epoch:%d\\n'%(EPOCH))\n",
    "        break\n",
    "        \n",
    "    train_acc, train_loss, test_acc, test_loss = 0, 0, 0, 0\n",
    "    for i in range(0, (len(train_X) // batch_size) * batch_size, batch_size):\n",
    "        batch_x = str_idx(train_X[i:i+batch_size],dictionary,maxlen)\n",
    "        acc, loss, _ = sess.run([model.accuracy, model.cost, model.optimizer], \n",
    "                           feed_dict = {model.X : batch_x, model.Y : train_onehot[i:i+batch_size]})\n",
    "        train_loss += loss\n",
    "        train_acc += acc\n",
    "    \n",
    "    for i in range(0, (len(test_X) // batch_size) * batch_size, batch_size):\n",
    "        batch_x = str_idx(test_X[i:i+batch_size],dictionary,maxlen)\n",
    "        acc, loss = sess.run([model.accuracy, model.cost], \n",
    "                           feed_dict = {model.X : batch_x, model.Y : train_onehot[i:i+batch_size]})\n",
    "        test_loss += loss\n",
    "        test_acc += acc\n",
    "    \n",
    "    train_loss /= (len(train_X) // batch_size)\n",
    "    train_acc /= (len(train_X) // batch_size)\n",
    "    test_loss /= (len(test_X) // batch_size)\n",
    "    test_acc /= (len(test_X) // batch_size)\n",
    "    \n",
    "    if test_acc > CURRENT_ACC:\n",
    "        print('epoch: %d, pass acc: %f, current acc: %f'%(EPOCH,CURRENT_ACC, test_acc))\n",
    "        CURRENT_ACC = test_acc\n",
    "        CURRENT_CHECKPOINT = 0\n",
    "    else:\n",
    "        CURRENT_CHECKPOINT += 1\n",
    "        \n",
    "    print('time taken:', time.time()-lasttime)\n",
    "    print('epoch: %d, training loss: %f, training acc: %f, valid loss: %f, valid acc: %f\\n'%(EPOCH,train_loss,\n",
    "                                                                                          train_acc,test_loss,\n",
    "                                                                                          test_acc))\n",
    "    EPOCH += 1"
   ]
  },
  {
   "cell_type": "code",
   "execution_count": 13,
   "metadata": {},
   "outputs": [
    {
     "name": "stdout",
     "output_type": "stream",
     "text": [
      "             precision    recall  f1-score   support\n",
      "\n",
      "   negative       0.74      0.76      0.75      1058\n",
      "   positive       0.76      0.73      0.74      1075\n",
      "\n",
      "avg / total       0.75      0.75      0.75      2133\n",
      "\n"
     ]
    }
   ],
   "source": [
    "logits = sess.run(model.logits, feed_dict={model.X:str_idx(test_X,dictionary,maxlen)})\n",
    "print(metrics.classification_report(test_Y, np.argmax(logits,1), target_names = trainset.target_names))"
   ]
  },
  {
   "cell_type": "code",
   "execution_count": null,
   "metadata": {},
   "outputs": [],
   "source": []
  }
 ],
 "metadata": {
  "kernelspec": {
   "display_name": "Python 3",
   "language": "python",
   "name": "python3"
  },
  "language_info": {
   "codemirror_mode": {
    "name": "ipython",
    "version": 3
   },
   "file_extension": ".py",
   "mimetype": "text/x-python",
   "name": "python",
   "nbconvert_exporter": "python",
   "pygments_lexer": "ipython3",
   "version": "3.5.2"
  }
 },
 "nbformat": 4,
 "nbformat_minor": 2
}
