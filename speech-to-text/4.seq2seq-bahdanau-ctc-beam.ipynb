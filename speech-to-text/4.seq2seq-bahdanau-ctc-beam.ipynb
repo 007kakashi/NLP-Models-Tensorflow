{
 "cells": [
  {
   "cell_type": "code",
   "execution_count": 1,
   "metadata": {},
   "outputs": [],
   "source": [
    "import librosa\n",
    "import os\n",
    "import tensorflow as tf\n",
    "import numpy as np\n",
    "from tqdm import tqdm"
   ]
  },
  {
   "cell_type": "code",
   "execution_count": 2,
   "metadata": {},
   "outputs": [],
   "source": [
    "wav_files = [f for f in os.listdir('./data') if f.endswith('.wav')]\n",
    "text_files = [f for f in os.listdir('./data') if f.endswith('.txt')]"
   ]
  },
  {
   "cell_type": "code",
   "execution_count": 3,
   "metadata": {},
   "outputs": [
    {
     "name": "stderr",
     "output_type": "stream",
     "text": [
      "100%|██████████████████████████████████████| 2800/2800 [00:11<00:00, 238.05it/s]\n"
     ]
    }
   ],
   "source": [
    "inputs, targets = [], []\n",
    "for (wav_file, text_file) in tqdm(zip(wav_files, text_files), total = len(wav_files),ncols=80):\n",
    "    path = './data/' + wav_file\n",
    "    try:\n",
    "        y, sr = librosa.load(path, sr = None)\n",
    "    except:\n",
    "        continue\n",
    "    inputs.append(\n",
    "        librosa.feature.mfcc(\n",
    "            y = y, sr = sr, n_mfcc = 40, hop_length = int(1e-1 * sr)\n",
    "        ).T\n",
    "    )\n",
    "    with open('./data/' + text_file) as f:\n",
    "        targets.append(f.read())\n"
   ]
  },
  {
   "cell_type": "code",
   "execution_count": 4,
   "metadata": {},
   "outputs": [],
   "source": [
    "inputs = tf.keras.preprocessing.sequence.pad_sequences(\n",
    "    inputs, dtype = 'float32', padding = 'post'\n",
    ")\n",
    "\n",
    "chars = list(set([c for target in targets for c in target]))\n",
    "num_classes = len(chars) + 1\n",
    "\n",
    "idx2char = {idx: char for idx, char in enumerate(chars)}\n",
    "char2idx = {char: idx for idx, char in idx2char.items()}\n",
    "\n",
    "targets = [[char2idx[c] for c in target] for target in targets]"
   ]
  },
  {
   "cell_type": "code",
   "execution_count": 5,
   "metadata": {},
   "outputs": [],
   "source": [
    "def sparse_tuple_from(sequences, dtype=np.int32):\n",
    "    indices = []\n",
    "    values = []\n",
    "\n",
    "    for n, seq in enumerate(sequences):\n",
    "        indices.extend(zip([n] * len(seq), range(len(seq))))\n",
    "        values.extend(seq)\n",
    "\n",
    "    indices = np.asarray(indices, dtype=np.int64)\n",
    "    values = np.asarray(values, dtype=dtype)\n",
    "    shape = np.asarray([len(sequences), np.asarray(indices).max(0)[1] + 1], dtype=np.int64)\n",
    "\n",
    "    return indices, values, shape\n",
    "\n",
    "def clip_grads(loss_op):\n",
    "    variables = tf.trainable_variables()\n",
    "    grads = tf.gradients(loss_op, variables)\n",
    "    clipped_grads, _ = tf.clip_by_global_norm(grads, 5)\n",
    "    return zip(clipped_grads, variables)"
   ]
  },
  {
   "cell_type": "code",
   "execution_count": 6,
   "metadata": {},
   "outputs": [],
   "source": [
    "class Model:\n",
    "    def __init__(\n",
    "        self,\n",
    "        num_layers,\n",
    "        size_layers,\n",
    "        learning_rate,\n",
    "        num_features,\n",
    "        dropout = 1.0,\n",
    "    ):\n",
    "        self.X = tf.placeholder(tf.float32, [None, None, num_features])\n",
    "        self.Y = tf.sparse_placeholder(tf.int32)\n",
    "        batch_size = tf.shape(self.X)[0]\n",
    "        seq_lens = tf.count_nonzero(\n",
    "            tf.reduce_sum(self.X, -1), 1, dtype = tf.int32\n",
    "        )\n",
    "\n",
    "        def cells(reuse = False):\n",
    "            return tf.contrib.rnn.DropoutWrapper(\n",
    "                tf.nn.rnn_cell.LSTMCell(\n",
    "                    size_layers,\n",
    "                    initializer = tf.orthogonal_initializer(),\n",
    "                    reuse = reuse,\n",
    "                ),\n",
    "                state_keep_prob = dropout,\n",
    "                output_keep_prob = dropout,\n",
    "            )\n",
    "        def attention(encoder_out, seq_len, reuse=False):\n",
    "            attention_mechanism = tf.contrib.seq2seq.BahdanauAttention(num_units = size_layers, \n",
    "                                                                    memory = encoder_out,\n",
    "                                                                    memory_sequence_length = seq_len)\n",
    "            return tf.contrib.seq2seq.AttentionWrapper(\n",
    "            cell = tf.nn.rnn_cell.MultiRNNCell([cells(reuse) for _ in range(num_layers)]), \n",
    "                attention_mechanism = attention_mechanism,\n",
    "                attention_layer_size = size_layers)\n",
    "\n",
    "        encoder_cells = tf.nn.rnn_cell.MultiRNNCell([cells() for _ in range(num_layers)])\n",
    "        encoder_out, encoder_state = tf.nn.dynamic_rnn(cell = encoder_cells, \n",
    "                                                                 inputs = self.X, \n",
    "                                                                 sequence_length = seq_lens,\n",
    "                                                                 dtype = tf.float32)\n",
    "        \n",
    "        encoder_state = tuple(encoder_state[-1] for _ in range(num_layers))\n",
    "        main = tf.strided_slice(self.X, [0, 0, 0], [batch_size, -1, num_features], [1, 1, 1])\n",
    "        decoder_input = tf.concat([tf.fill([batch_size, 1, num_features], 0.0), main], 1)\n",
    "        decoder_cell = attention(encoder_out, seq_lens)\n",
    "        dense_layer = tf.layers.Dense(num_classes)\n",
    "        \n",
    "        training_helper = tf.contrib.seq2seq.TrainingHelper(\n",
    "                inputs = decoder_input,\n",
    "                sequence_length = seq_lens,\n",
    "                time_major = False)\n",
    "        training_decoder = tf.contrib.seq2seq.BasicDecoder(\n",
    "                cell = decoder_cell,\n",
    "                helper = training_helper,\n",
    "                initial_state = decoder_cell.zero_state(batch_size, tf.float32).clone(cell_state=encoder_state),\n",
    "                output_layer = dense_layer)\n",
    "        training_decoder_output, _, _ = tf.contrib.seq2seq.dynamic_decode(\n",
    "                decoder = training_decoder,\n",
    "                impute_finished = True,\n",
    "                maximum_iterations = tf.reduce_max(seq_lens))\n",
    "        \n",
    "        logits = training_decoder_output.rnn_output\n",
    "        time_major = tf.transpose(logits, [1, 0, 2])\n",
    "        decoded, log_prob = tf.nn.ctc_beam_search_decoder(time_major, seq_lens)\n",
    "        decoded = tf.to_int32(decoded[0])\n",
    "        self.preds = tf.sparse.to_dense(decoded)\n",
    "        self.cost = tf.reduce_mean(\n",
    "            tf.nn.ctc_loss(\n",
    "                self.Y,\n",
    "                time_major,\n",
    "                seq_lens,\n",
    "                ignore_longer_outputs_than_inputs = True,\n",
    "            )\n",
    "        )\n",
    "        self.optimizer = tf.train.AdamOptimizer(\n",
    "            learning_rate = learning_rate\n",
    "        ).minimize(self.cost)"
   ]
  },
  {
   "cell_type": "code",
   "execution_count": 7,
   "metadata": {},
   "outputs": [
    {
     "name": "stdout",
     "output_type": "stream",
     "text": [
      "WARNING:tensorflow:From /usr/local/lib/python3.5/dist-packages/tensorflow/python/ops/sparse_ops.py:1165: sparse_to_dense (from tensorflow.python.ops.sparse_ops) is deprecated and will be removed in a future version.\n",
      "Instructions for updating:\n",
      "Create a `tf.sparse.SparseTensor` and use `tf.sparse.to_dense` instead.\n"
     ]
    }
   ],
   "source": [
    "tf.reset_default_graph()\n",
    "sess = tf.InteractiveSession()\n",
    "\n",
    "size_layers = 128\n",
    "learning_rate = 1e-4\n",
    "num_layers = 2\n",
    "\n",
    "model = Model(num_layers, size_layers, learning_rate, inputs.shape[2])\n",
    "sess.run(tf.global_variables_initializer())"
   ]
  },
  {
   "cell_type": "code",
   "execution_count": 8,
   "metadata": {},
   "outputs": [
    {
     "name": "stderr",
     "output_type": "stream",
     "text": [
      "minibatch loop: 100%|████████████████| 88/88 [00:06<00:00, 13.54it/s, cost=34.7]\n",
      "minibatch loop: 100%|████████████████| 88/88 [00:06<00:00, 14.13it/s, cost=22.3]\n",
      "minibatch loop: 100%|██████████████████| 88/88 [00:06<00:00, 14.35it/s, cost=17]\n",
      "minibatch loop: 100%|████████████████| 88/88 [00:06<00:00, 14.30it/s, cost=14.9]\n",
      "minibatch loop: 100%|████████████████| 88/88 [00:06<00:00, 14.31it/s, cost=13.9]\n",
      "minibatch loop: 100%|████████████████| 88/88 [00:06<00:00, 14.37it/s, cost=13.5]\n",
      "minibatch loop: 100%|██████████████████| 88/88 [00:06<00:00, 14.23it/s, cost=13]\n",
      "minibatch loop: 100%|████████████████| 88/88 [00:06<00:00, 14.29it/s, cost=12.7]\n",
      "minibatch loop: 100%|████████████████| 88/88 [00:06<00:00, 14.19it/s, cost=12.4]\n",
      "minibatch loop: 100%|████████████████| 88/88 [00:06<00:00, 14.37it/s, cost=12.2]\n",
      "minibatch loop: 100%|██████████████████| 88/88 [00:06<00:00, 14.32it/s, cost=12]\n",
      "minibatch loop: 100%|████████████████| 88/88 [00:06<00:00, 14.26it/s, cost=11.8]\n",
      "minibatch loop: 100%|████████████████| 88/88 [00:06<00:00, 14.38it/s, cost=11.6]\n",
      "minibatch loop: 100%|████████████████| 88/88 [00:06<00:00, 14.10it/s, cost=11.5]\n",
      "minibatch loop: 100%|████████████████| 88/88 [00:06<00:00, 14.34it/s, cost=11.5]\n",
      "minibatch loop: 100%|████████████████| 88/88 [00:06<00:00, 14.06it/s, cost=11.5]\n",
      "minibatch loop: 100%|████████████████| 88/88 [00:06<00:00, 14.28it/s, cost=11.3]\n",
      "minibatch loop: 100%|████████████████| 88/88 [00:06<00:00, 14.42it/s, cost=11.1]\n",
      "minibatch loop: 100%|██████████████████| 88/88 [00:06<00:00, 14.27it/s, cost=11]\n",
      "minibatch loop: 100%|████████████████| 88/88 [00:06<00:00, 14.27it/s, cost=10.8]\n",
      "minibatch loop: 100%|████████████████| 88/88 [00:06<00:00, 14.35it/s, cost=10.7]\n",
      "minibatch loop: 100%|████████████████| 88/88 [00:06<00:00, 13.72it/s, cost=10.6]\n",
      "minibatch loop: 100%|████████████████| 88/88 [00:06<00:00, 14.41it/s, cost=10.5]\n",
      "minibatch loop: 100%|████████████████| 88/88 [00:06<00:00, 14.36it/s, cost=10.4]\n",
      "minibatch loop: 100%|████████████████| 88/88 [00:06<00:00, 14.39it/s, cost=10.3]\n",
      "minibatch loop: 100%|████████████████| 88/88 [00:06<00:00, 14.26it/s, cost=10.5]\n",
      "minibatch loop: 100%|████████████████| 88/88 [00:06<00:00, 14.34it/s, cost=10.3]\n",
      "minibatch loop: 100%|████████████████| 88/88 [00:06<00:00, 14.31it/s, cost=10.3]\n",
      "minibatch loop: 100%|████████████████| 88/88 [00:06<00:00, 14.38it/s, cost=10.4]\n",
      "minibatch loop: 100%|████████████████| 88/88 [00:06<00:00, 14.25it/s, cost=10.3]\n",
      "minibatch loop: 100%|████████████████| 88/88 [00:06<00:00, 14.29it/s, cost=10.4]\n",
      "minibatch loop: 100%|████████████████| 88/88 [00:06<00:00, 14.32it/s, cost=10.1]\n",
      "minibatch loop: 100%|████████████████| 88/88 [00:06<00:00, 14.13it/s, cost=10.4]\n",
      "minibatch loop: 100%|████████████████| 88/88 [00:06<00:00, 14.13it/s, cost=10.3]\n",
      "minibatch loop: 100%|████████████████| 88/88 [00:06<00:00, 14.21it/s, cost=10.1]\n",
      "minibatch loop: 100%|████████████████| 88/88 [00:06<00:00, 14.23it/s, cost=10.1]\n",
      "minibatch loop: 100%|████████████████| 88/88 [00:06<00:00, 14.37it/s, cost=9.99]\n",
      "minibatch loop: 100%|████████████████| 88/88 [00:06<00:00, 14.21it/s, cost=9.88]\n",
      "minibatch loop: 100%|████████████████| 88/88 [00:06<00:00, 14.31it/s, cost=10.6]\n",
      "minibatch loop: 100%|████████████████| 88/88 [00:06<00:00, 14.29it/s, cost=10.3]\n",
      "minibatch loop: 100%|████████████████| 88/88 [00:06<00:00, 14.36it/s, cost=10.5]\n",
      "minibatch loop: 100%|████████████████| 88/88 [00:06<00:00, 14.40it/s, cost=9.75]\n",
      "minibatch loop: 100%|████████████████| 88/88 [00:06<00:00, 14.25it/s, cost=9.59]\n",
      "minibatch loop: 100%|████████████████| 88/88 [00:06<00:00, 14.20it/s, cost=9.56]\n",
      "minibatch loop: 100%|████████████████| 88/88 [00:06<00:00, 14.14it/s, cost=9.71]\n",
      "minibatch loop: 100%|████████████████| 88/88 [00:06<00:00, 14.29it/s, cost=9.53]\n",
      "minibatch loop: 100%|█████████████████| 88/88 [00:06<00:00, 14.25it/s, cost=9.7]\n",
      "minibatch loop: 100%|████████████████| 88/88 [00:06<00:00, 14.35it/s, cost=10.1]\n",
      "minibatch loop: 100%|████████████████| 88/88 [00:06<00:00, 14.13it/s, cost=9.84]\n",
      "minibatch loop: 100%|████████████████| 88/88 [00:06<00:00, 14.36it/s, cost=9.41]\n"
     ]
    }
   ],
   "source": [
    "import time\n",
    "batch_size = 32\n",
    "\n",
    "for e in range(50):\n",
    "    lasttime = time.time()\n",
    "    pbar = tqdm(\n",
    "        range(0, len(inputs), batch_size), desc = 'minibatch loop', ncols = 80\n",
    "    )\n",
    "    for i in pbar:\n",
    "        batch_x = inputs[i : min(i + batch_size, len(inputs))]\n",
    "        batch_y = sparse_tuple_from(\n",
    "            targets[i : min(i + batch_size, len(inputs))]\n",
    "        )\n",
    "        _, cost = sess.run(\n",
    "            [model.optimizer, model.cost],\n",
    "            feed_dict = {model.X: batch_x, model.Y: batch_y},\n",
    "        )\n",
    "        pbar.set_postfix(cost = cost)"
   ]
  },
  {
   "cell_type": "code",
   "execution_count": 9,
   "metadata": {},
   "outputs": [
    {
     "name": "stdout",
     "output_type": "stream",
     "text": [
      "real: say the word dodge\n",
      "predicted: say the word sar\n"
     ]
    }
   ],
   "source": [
    "import random\n",
    "\n",
    "random_index = random.randint(0, len(targets) - 1)\n",
    "batch_x = inputs[random_index : random_index + 1]\n",
    "print(\n",
    "    'real:',\n",
    "    ''.join(\n",
    "        [idx2char[no] for no in targets[random_index : random_index + 1][0]]\n",
    "    ),\n",
    ")\n",
    "batch_y = sparse_tuple_from(targets[random_index : random_index + 1])\n",
    "pred = sess.run(model.preds, feed_dict = {model.X: batch_x})[0]\n",
    "print('predicted:', ''.join([idx2char[no] for no in pred]))"
   ]
  },
  {
   "cell_type": "code",
   "execution_count": null,
   "metadata": {},
   "outputs": [],
   "source": []
  }
 ],
 "metadata": {
  "kernelspec": {
   "display_name": "Python 3",
   "language": "python",
   "name": "python3"
  },
  "language_info": {
   "codemirror_mode": {
    "name": "ipython",
    "version": 3
   },
   "file_extension": ".py",
   "mimetype": "text/x-python",
   "name": "python",
   "nbconvert_exporter": "python",
   "pygments_lexer": "ipython3",
   "version": "3.5.2"
  }
 },
 "nbformat": 4,
 "nbformat_minor": 2
}
