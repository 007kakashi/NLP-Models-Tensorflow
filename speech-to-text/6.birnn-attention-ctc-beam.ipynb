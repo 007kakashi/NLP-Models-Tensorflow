{
 "cells": [
  {
   "cell_type": "code",
   "execution_count": 1,
   "metadata": {},
   "outputs": [],
   "source": [
    "import librosa\n",
    "import os\n",
    "import tensorflow as tf\n",
    "import numpy as np\n",
    "from tqdm import tqdm"
   ]
  },
  {
   "cell_type": "code",
   "execution_count": 2,
   "metadata": {},
   "outputs": [],
   "source": [
    "wav_files = [f for f in os.listdir('./data') if f.endswith('.wav')]\n",
    "text_files = [f for f in os.listdir('./data') if f.endswith('.txt')]"
   ]
  },
  {
   "cell_type": "code",
   "execution_count": 3,
   "metadata": {},
   "outputs": [
    {
     "name": "stderr",
     "output_type": "stream",
     "text": [
      "100%|███████████████████████████████████████| 2800/2800 [00:47<00:00, 59.54it/s]\n"
     ]
    }
   ],
   "source": [
    "inputs, targets = [], []\n",
    "for (wav_file, text_file) in tqdm(zip(wav_files, text_files), total = len(wav_files),ncols=80):\n",
    "    path = './data/' + wav_file\n",
    "    try:\n",
    "        y, sr = librosa.load(path, sr = None)\n",
    "    except:\n",
    "        continue\n",
    "    inputs.append(\n",
    "        librosa.feature.mfcc(\n",
    "            y = y, sr = sr, n_mfcc = 40, hop_length = int(1e-1 * sr)\n",
    "        ).T\n",
    "    )\n",
    "    with open('./data/' + text_file) as f:\n",
    "        targets.append(f.read())\n"
   ]
  },
  {
   "cell_type": "code",
   "execution_count": 4,
   "metadata": {},
   "outputs": [],
   "source": [
    "inputs = tf.keras.preprocessing.sequence.pad_sequences(\n",
    "    inputs, dtype = 'float32', padding = 'post'\n",
    ")\n",
    "\n",
    "chars = list(set([c for target in targets for c in target]))\n",
    "num_classes = len(chars) + 1\n",
    "\n",
    "idx2char = {idx: char for idx, char in enumerate(chars)}\n",
    "char2idx = {char: idx for idx, char in idx2char.items()}\n",
    "\n",
    "targets = [[char2idx[c] for c in target] for target in targets]"
   ]
  },
  {
   "cell_type": "code",
   "execution_count": 5,
   "metadata": {},
   "outputs": [],
   "source": [
    "def sparse_tuple_from(sequences, dtype=np.int32):\n",
    "    indices = []\n",
    "    values = []\n",
    "\n",
    "    for n, seq in enumerate(sequences):\n",
    "        indices.extend(zip([n] * len(seq), range(len(seq))))\n",
    "        values.extend(seq)\n",
    "\n",
    "    indices = np.asarray(indices, dtype=np.int64)\n",
    "    values = np.asarray(values, dtype=dtype)\n",
    "    shape = np.asarray([len(sequences), np.asarray(indices).max(0)[1] + 1], dtype=np.int64)\n",
    "\n",
    "    return indices, values, shape"
   ]
  },
  {
   "cell_type": "code",
   "execution_count": 6,
   "metadata": {},
   "outputs": [],
   "source": [
    "def attention(inputs, attention_size):\n",
    "    hidden_size = inputs.shape[2].value\n",
    "    w_omega = tf.Variable(\n",
    "        tf.random_normal([hidden_size, attention_size], stddev = 0.1)\n",
    "    )\n",
    "    b_omega = tf.Variable(tf.random_normal([attention_size], stddev = 0.1))\n",
    "    u_omega = tf.Variable(tf.random_normal([attention_size], stddev = 0.1))\n",
    "    with tf.name_scope('v'):\n",
    "        v = tf.tanh(tf.tensordot(inputs, w_omega, axes = 1) + b_omega)\n",
    "    vu = tf.tensordot(v, u_omega, axes = 1, name = 'vu')\n",
    "    alphas = tf.nn.softmax(vu, name = 'alphas')\n",
    "    output = inputs * tf.expand_dims(alphas, -1)\n",
    "    return output, alphas\n",
    "\n",
    "class Model:\n",
    "    def __init__(\n",
    "        self,\n",
    "        num_layers,\n",
    "        size_layers,\n",
    "        learning_rate,\n",
    "        num_features,\n",
    "        dropout = 1.0,\n",
    "    ):\n",
    "        self.X = tf.placeholder(tf.float32, [None, None, num_features])\n",
    "        self.Y = tf.sparse_placeholder(tf.int32)\n",
    "        seq_lens = tf.count_nonzero(\n",
    "            tf.reduce_sum(self.X, -1), 1, dtype = tf.int32\n",
    "        )\n",
    "\n",
    "        def cells(size, reuse = False):\n",
    "            return tf.contrib.rnn.DropoutWrapper(\n",
    "                tf.nn.rnn_cell.LSTMCell(\n",
    "                    size,\n",
    "                    initializer = tf.orthogonal_initializer(),\n",
    "                    reuse = reuse,\n",
    "                ),\n",
    "                state_keep_prob = dropout,\n",
    "                output_keep_prob = dropout,\n",
    "            )\n",
    "\n",
    "        features = self.X\n",
    "        for n in range(num_layers):\n",
    "            (out_fw, out_bw), (\n",
    "                state_fw,\n",
    "                state_bw,\n",
    "            ) = tf.nn.bidirectional_dynamic_rnn(\n",
    "                cell_fw = cells(size_layers),\n",
    "                cell_bw = cells(size_layers),\n",
    "                inputs = features,\n",
    "                sequence_length = seq_lens,\n",
    "                dtype = tf.float32,\n",
    "                scope = 'bidirectional_rnn_%d' % (n),\n",
    "            )\n",
    "            features = tf.concat((out_fw, out_bw), 2)\n",
    "        \n",
    "        features, _ = attention(features, size_layers)\n",
    "        logits = tf.layers.dense(features, num_classes)\n",
    "        time_major = tf.transpose(logits, [1, 0, 2])\n",
    "        decoded, log_prob = tf.nn.ctc_beam_search_decoder(time_major, seq_lens)\n",
    "        decoded = tf.to_int32(decoded[0])\n",
    "        self.preds = tf.sparse.to_dense(decoded)\n",
    "        self.cost = tf.reduce_mean(\n",
    "            tf.nn.ctc_loss(\n",
    "                self.Y,\n",
    "                time_major,\n",
    "                seq_lens,\n",
    "                ignore_longer_outputs_than_inputs = True,\n",
    "            )\n",
    "        )\n",
    "        self.optimizer = tf.train.AdamOptimizer(\n",
    "            learning_rate = learning_rate\n",
    "        ).minimize(self.cost)"
   ]
  },
  {
   "cell_type": "code",
   "execution_count": 7,
   "metadata": {},
   "outputs": [
    {
     "name": "stdout",
     "output_type": "stream",
     "text": [
      "WARNING:tensorflow:From /usr/local/lib/python3.5/dist-packages/tensorflow/python/ops/sparse_ops.py:1165: sparse_to_dense (from tensorflow.python.ops.sparse_ops) is deprecated and will be removed in a future version.\n",
      "Instructions for updating:\n",
      "Create a `tf.sparse.SparseTensor` and use `tf.sparse.to_dense` instead.\n"
     ]
    }
   ],
   "source": [
    "tf.reset_default_graph()\n",
    "sess = tf.InteractiveSession()\n",
    "\n",
    "size_layers = 128\n",
    "learning_rate = 1e-3\n",
    "num_layers = 2\n",
    "\n",
    "model = Model(num_layers, size_layers, learning_rate, inputs.shape[2])\n",
    "sess.run(tf.global_variables_initializer())"
   ]
  },
  {
   "cell_type": "code",
   "execution_count": 8,
   "metadata": {},
   "outputs": [
    {
     "name": "stderr",
     "output_type": "stream",
     "text": [
      "minibatch loop: 100%|████████████████| 88/88 [00:05<00:00, 16.62it/s, cost=43.7]\n",
      "minibatch loop: 100%|████████████████| 88/88 [00:04<00:00, 20.48it/s, cost=40.5]\n",
      "minibatch loop: 100%|████████████████| 88/88 [00:04<00:00, 20.64it/s, cost=37.5]\n",
      "minibatch loop: 100%|████████████████| 88/88 [00:04<00:00, 20.52it/s, cost=34.9]\n",
      "minibatch loop: 100%|████████████████| 88/88 [00:04<00:00, 20.54it/s, cost=32.9]\n",
      "minibatch loop: 100%|████████████████| 88/88 [00:04<00:00, 20.59it/s, cost=31.2]\n",
      "minibatch loop: 100%|████████████████| 88/88 [00:04<00:00, 20.37it/s, cost=29.3]\n",
      "minibatch loop: 100%|████████████████| 88/88 [00:04<00:00, 20.43it/s, cost=27.7]\n",
      "minibatch loop: 100%|████████████████| 88/88 [00:04<00:00, 20.71it/s, cost=26.3]\n",
      "minibatch loop: 100%|████████████████| 88/88 [00:04<00:00, 20.46it/s, cost=24.9]\n",
      "minibatch loop: 100%|████████████████| 88/88 [00:04<00:00, 20.73it/s, cost=23.3]\n",
      "minibatch loop: 100%|████████████████| 88/88 [00:04<00:00, 20.59it/s, cost=21.5]\n",
      "minibatch loop: 100%|████████████████| 88/88 [00:04<00:00, 20.57it/s, cost=20.9]\n",
      "minibatch loop: 100%|████████████████| 88/88 [00:04<00:00, 20.53it/s, cost=19.7]\n",
      "minibatch loop: 100%|██████████████████| 88/88 [00:04<00:00, 20.32it/s, cost=19]\n",
      "minibatch loop: 100%|████████████████| 88/88 [00:04<00:00, 20.30it/s, cost=18.4]\n",
      "minibatch loop: 100%|████████████████| 88/88 [00:04<00:00, 20.57it/s, cost=18.1]\n",
      "minibatch loop: 100%|████████████████| 88/88 [00:04<00:00, 20.69it/s, cost=17.5]\n",
      "minibatch loop: 100%|████████████████| 88/88 [00:04<00:00, 20.76it/s, cost=17.4]\n",
      "minibatch loop: 100%|████████████████| 88/88 [00:04<00:00, 20.55it/s, cost=17.2]\n",
      "minibatch loop: 100%|██████████████████| 88/88 [00:04<00:00, 20.75it/s, cost=17]\n",
      "minibatch loop: 100%|████████████████| 88/88 [00:04<00:00, 20.28it/s, cost=16.7]\n",
      "minibatch loop: 100%|████████████████| 88/88 [00:04<00:00, 20.51it/s, cost=16.6]\n",
      "minibatch loop: 100%|████████████████| 88/88 [00:04<00:00, 20.62it/s, cost=16.4]\n",
      "minibatch loop: 100%|████████████████| 88/88 [00:04<00:00, 20.49it/s, cost=16.3]\n",
      "minibatch loop: 100%|████████████████| 88/88 [00:04<00:00, 20.75it/s, cost=16.3]\n",
      "minibatch loop: 100%|██████████████████| 88/88 [00:04<00:00, 20.50it/s, cost=16]\n",
      "minibatch loop: 100%|██████████████████| 88/88 [00:04<00:00, 20.60it/s, cost=16]\n",
      "minibatch loop: 100%|████████████████| 88/88 [00:04<00:00, 20.46it/s, cost=16.4]\n",
      "minibatch loop: 100%|████████████████| 88/88 [00:04<00:00, 20.50it/s, cost=15.8]\n",
      "minibatch loop: 100%|████████████████| 88/88 [00:04<00:00, 20.57it/s, cost=15.7]\n",
      "minibatch loop: 100%|████████████████| 88/88 [00:04<00:00, 20.57it/s, cost=15.6]\n",
      "minibatch loop: 100%|████████████████| 88/88 [00:04<00:00, 20.74it/s, cost=15.6]\n",
      "minibatch loop: 100%|████████████████| 88/88 [00:04<00:00, 20.70it/s, cost=15.5]\n",
      "minibatch loop: 100%|████████████████| 88/88 [00:04<00:00, 20.40it/s, cost=15.5]\n",
      "minibatch loop: 100%|████████████████| 88/88 [00:04<00:00, 20.68it/s, cost=15.8]\n",
      "minibatch loop: 100%|████████████████| 88/88 [00:04<00:00, 20.52it/s, cost=15.4]\n",
      "minibatch loop: 100%|████████████████| 88/88 [00:04<00:00, 20.41it/s, cost=15.3]\n",
      "minibatch loop: 100%|████████████████| 88/88 [00:04<00:00, 20.49it/s, cost=15.2]\n",
      "minibatch loop: 100%|████████████████| 88/88 [00:04<00:00, 20.52it/s, cost=15.4]\n",
      "minibatch loop: 100%|████████████████| 88/88 [00:04<00:00, 20.73it/s, cost=15.2]\n",
      "minibatch loop: 100%|████████████████| 88/88 [00:04<00:00, 20.82it/s, cost=15.2]\n",
      "minibatch loop: 100%|██████████████████| 88/88 [00:04<00:00, 20.45it/s, cost=15]\n",
      "minibatch loop: 100%|██████████████████| 88/88 [00:04<00:00, 20.49it/s, cost=15]\n",
      "minibatch loop: 100%|████████████████| 88/88 [00:04<00:00, 20.48it/s, cost=14.9]\n",
      "minibatch loop: 100%|████████████████| 88/88 [00:04<00:00, 20.56it/s, cost=14.8]\n",
      "minibatch loop: 100%|██████████████████| 88/88 [00:04<00:00, 20.65it/s, cost=15]\n",
      "minibatch loop: 100%|████████████████| 88/88 [00:04<00:00, 20.63it/s, cost=14.9]\n",
      "minibatch loop: 100%|██████████████████| 88/88 [00:04<00:00, 19.99it/s, cost=15]\n",
      "minibatch loop: 100%|██████████████████| 88/88 [00:04<00:00, 20.42it/s, cost=15]\n"
     ]
    }
   ],
   "source": [
    "import time\n",
    "batch_size = 32\n",
    "\n",
    "for e in range(50):\n",
    "    lasttime = time.time()\n",
    "    pbar = tqdm(\n",
    "        range(0, len(inputs), batch_size), desc = 'minibatch loop', ncols = 80\n",
    "    )\n",
    "    for i in pbar:\n",
    "        batch_x = inputs[i : min(i + batch_size, len(inputs))]\n",
    "        batch_y = sparse_tuple_from(\n",
    "            targets[i : min(i + batch_size, len(inputs))]\n",
    "        )\n",
    "        _, cost = sess.run(\n",
    "            [model.optimizer, model.cost],\n",
    "            feed_dict = {model.X: batch_x, model.Y: batch_y},\n",
    "        )\n",
    "        pbar.set_postfix(cost = cost)"
   ]
  },
  {
   "cell_type": "code",
   "execution_count": 9,
   "metadata": {},
   "outputs": [
    {
     "name": "stdout",
     "output_type": "stream",
     "text": [
      "real: say the word thumb\n",
      "predicted: say the word ses\n"
     ]
    }
   ],
   "source": [
    "import random\n",
    "\n",
    "random_index = random.randint(0, len(targets) - 1)\n",
    "batch_x = inputs[random_index : random_index + 1]\n",
    "print(\n",
    "    'real:',\n",
    "    ''.join(\n",
    "        [idx2char[no] for no in targets[random_index : random_index + 1][0]]\n",
    "    ),\n",
    ")\n",
    "batch_y = sparse_tuple_from(targets[random_index : random_index + 1])\n",
    "pred = sess.run(model.preds, feed_dict = {model.X: batch_x})[0]\n",
    "print('predicted:', ''.join([idx2char[no] for no in pred]))"
   ]
  },
  {
   "cell_type": "code",
   "execution_count": null,
   "metadata": {},
   "outputs": [],
   "source": []
  }
 ],
 "metadata": {
  "kernelspec": {
   "display_name": "Python 3",
   "language": "python",
   "name": "python3"
  },
  "language_info": {
   "codemirror_mode": {
    "name": "ipython",
    "version": 3
   },
   "file_extension": ".py",
   "mimetype": "text/x-python",
   "name": "python",
   "nbconvert_exporter": "python",
   "pygments_lexer": "ipython3",
   "version": "3.5.2"
  }
 },
 "nbformat": 4,
 "nbformat_minor": 2
}
