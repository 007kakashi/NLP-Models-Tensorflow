{
 "cells": [
  {
   "cell_type": "code",
   "execution_count": 1,
   "metadata": {},
   "outputs": [
    {
     "name": "stderr",
     "output_type": "stream",
     "text": [
      "/usr/local/lib/python3.6/dist-packages/sklearn/cross_validation.py:41: DeprecationWarning: This module was deprecated in version 0.18 in favor of the model_selection module into which all the refactored classes and functions are moved. Also note that the interface of the new CV iterators are different from that of this module. This module will be removed in 0.20.\n",
      "  \"This module will be removed in 0.20.\", DeprecationWarning)\n"
     ]
    }
   ],
   "source": [
    "import xl\n",
    "from utils import *\n",
    "import tensorflow as tf\n",
    "from sklearn.cross_validation import train_test_split\n",
    "import time\n",
    "import random\n",
    "import os"
   ]
  },
  {
   "cell_type": "code",
   "execution_count": 2,
   "metadata": {},
   "outputs": [
    {
     "name": "stdout",
     "output_type": "stream",
     "text": [
      "['negative', 'positive']\n",
      "10662\n",
      "10662\n"
     ]
    }
   ],
   "source": [
    "trainset = sklearn.datasets.load_files(container_path = 'data', encoding = 'UTF-8')\n",
    "trainset.data, trainset.target = separate_dataset(trainset,1.0)\n",
    "print (trainset.target_names)\n",
    "print (len(trainset.data))\n",
    "print (len(trainset.target))"
   ]
  },
  {
   "cell_type": "code",
   "execution_count": 3,
   "metadata": {},
   "outputs": [
    {
     "name": "stdout",
     "output_type": "stream",
     "text": [
      "vocab from size: 20332\n",
      "Most common words [('film', 1453), ('movie', 1270), ('one', 727), ('like', 721), ('story', 477), ('much', 386)]\n",
      "Sample data [278, 143, 657, 849, 138, 1641, 475, 401, 42, 5347] ['solid', 'emotional', 'impact', 'strangely', 'compelling', 'brilliantly', 'acted', 'psychological', 'drama', 'tricky']\n"
     ]
    }
   ],
   "source": [
    "concat = ' '.join(trainset.data).split()\n",
    "vocabulary_size = len(list(set(concat)))\n",
    "data, count, dictionary, rev_dictionary = build_dataset(concat, vocabulary_size)\n",
    "print('vocab from size: %d'%(vocabulary_size))\n",
    "print('Most common words', count[4:10])\n",
    "print('Sample data', data[:10], [rev_dictionary[i] for i in data[:10]])"
   ]
  },
  {
   "cell_type": "code",
   "execution_count": 4,
   "metadata": {},
   "outputs": [],
   "source": [
    "GO = dictionary['GO']\n",
    "PAD = dictionary['PAD']\n",
    "EOS = dictionary['EOS']\n",
    "UNK = dictionary['UNK']"
   ]
  },
  {
   "cell_type": "code",
   "execution_count": 5,
   "metadata": {},
   "outputs": [],
   "source": [
    "learning_rate = 1e-4\n",
    "batch_size = 32\n",
    "maxlen = 100\n",
    "n_layer = 3\n",
    "d_model = 256\n",
    "d_embed = 256\n",
    "n_head = 10\n",
    "d_head = 50\n",
    "d_inner = 512"
   ]
  },
  {
   "cell_type": "code",
   "execution_count": 6,
   "metadata": {},
   "outputs": [],
   "source": [
    "class Model:\n",
    "    def __init__(self):\n",
    "        self.X = tf.placeholder(tf.int32, [None, maxlen])\n",
    "        self.Y = tf.placeholder(tf.int32, [None])\n",
    "        self.memory = tf.placeholder(tf.float32, [n_layer, None, maxlen, d_model])\n",
    "        initializer = tf.initializers.random_normal(stddev = 0.1)\n",
    "        logits, self.next_memory = xl.transformer(\n",
    "            self.X,\n",
    "            self.memory,\n",
    "            len(dictionary),\n",
    "            n_layer,\n",
    "            d_model,\n",
    "            d_embed,\n",
    "            n_head,\n",
    "            d_head,\n",
    "            d_inner,\n",
    "            initializer\n",
    "        )\n",
    "        logits = tf.reduce_mean(logits,axis=1)\n",
    "        self.logits = tf.layers.dense(logits, 2)\n",
    "        self.cost = tf.reduce_mean(\n",
    "            tf.nn.sparse_softmax_cross_entropy_with_logits(\n",
    "                logits = self.logits, labels = self.Y\n",
    "            )\n",
    "        )\n",
    "        self.optimizer = tf.train.AdamOptimizer(learning_rate).minimize(\n",
    "            self.cost\n",
    "        )\n",
    "        correct_pred = tf.equal(\n",
    "            tf.argmax(self.logits, 1, output_type = tf.int32), self.Y\n",
    "        )\n",
    "        self.accuracy = tf.reduce_mean(tf.cast(correct_pred, tf.float32))"
   ]
  },
  {
   "cell_type": "code",
   "execution_count": 7,
   "metadata": {},
   "outputs": [],
   "source": [
    "tf.reset_default_graph()\n",
    "sess = tf.InteractiveSession()\n",
    "model = Model()\n",
    "sess.run(tf.global_variables_initializer())"
   ]
  },
  {
   "cell_type": "code",
   "execution_count": 8,
   "metadata": {},
   "outputs": [],
   "source": [
    "vectors = str_idx(trainset.data,dictionary,maxlen)\n",
    "train_X, test_X, train_Y, test_Y = train_test_split(vectors, trainset.target,test_size = 0.2)"
   ]
  },
  {
   "cell_type": "code",
   "execution_count": 9,
   "metadata": {},
   "outputs": [
    {
     "name": "stderr",
     "output_type": "stream",
     "text": [
      "train minibatch loop: 100%|██████████| 267/267 [00:35<00:00,  7.59it/s, accuracy=0.647, cost=0.659]\n",
      "test minibatch loop: 100%|██████████| 67/67 [00:03<00:00, 18.86it/s, accuracy=0.429, cost=0.749]\n",
      "train minibatch loop:   0%|          | 1/267 [00:00<00:34,  7.65it/s, accuracy=0.531, cost=0.703]"
     ]
    },
    {
     "name": "stdout",
     "output_type": "stream",
     "text": [
      "epoch: 0, pass acc: 0.000000, current acc: 0.503382\n",
      "time taken: 38.71718215942383\n",
      "epoch: 0, training loss: 0.719983, training acc: 0.499790, valid loss: 0.720520, valid acc: 0.503382\n",
      "\n"
     ]
    },
    {
     "name": "stderr",
     "output_type": "stream",
     "text": [
      "train minibatch loop: 100%|██████████| 267/267 [00:35<00:00,  7.61it/s, accuracy=0.647, cost=0.654]\n",
      "test minibatch loop: 100%|██████████| 67/67 [00:03<00:00, 19.29it/s, accuracy=0.429, cost=0.753]\n",
      "train minibatch loop:   0%|          | 1/267 [00:00<00:34,  7.61it/s, accuracy=0.531, cost=0.696]"
     ]
    },
    {
     "name": "stdout",
     "output_type": "stream",
     "text": [
      "time taken: 38.56607508659363\n",
      "epoch: 1, training loss: 0.696442, training acc: 0.531446, valid loss: 0.725562, valid acc: 0.503382\n",
      "\n"
     ]
    },
    {
     "name": "stderr",
     "output_type": "stream",
     "text": [
      "train minibatch loop: 100%|██████████| 267/267 [00:35<00:00,  7.59it/s, accuracy=0.647, cost=0.615]\n",
      "test minibatch loop: 100%|██████████| 67/67 [00:03<00:00, 19.26it/s, accuracy=0.429, cost=0.866]\n",
      "train minibatch loop:   0%|          | 1/267 [00:00<00:35,  7.58it/s, accuracy=0.594, cost=0.622]"
     ]
    },
    {
     "name": "stdout",
     "output_type": "stream",
     "text": [
      "epoch: 2, pass acc: 0.503382, current acc: 0.504789\n",
      "time taken: 38.6580696105957\n",
      "epoch: 2, training loss: 0.571610, training acc: 0.685157, valid loss: 0.835562, valid acc: 0.504789\n",
      "\n"
     ]
    },
    {
     "name": "stderr",
     "output_type": "stream",
     "text": [
      "train minibatch loop: 100%|██████████| 267/267 [00:35<00:00,  7.59it/s, accuracy=0.588, cost=0.701]\n",
      "test minibatch loop: 100%|██████████| 67/67 [00:03<00:00, 19.31it/s, accuracy=0.524, cost=0.818]\n",
      "train minibatch loop:   0%|          | 1/267 [00:00<00:34,  7.63it/s, accuracy=0.875, cost=0.387]"
     ]
    },
    {
     "name": "stdout",
     "output_type": "stream",
     "text": [
      "epoch: 3, pass acc: 0.504789, current acc: 0.504811\n",
      "time taken: 38.64583778381348\n",
      "epoch: 3, training loss: 0.424266, training acc: 0.815784, valid loss: 0.783741, valid acc: 0.504811\n",
      "\n"
     ]
    },
    {
     "name": "stderr",
     "output_type": "stream",
     "text": [
      "train minibatch loop: 100%|██████████| 267/267 [00:35<00:00,  7.60it/s, accuracy=0.941, cost=0.432]\n",
      "test minibatch loop: 100%|██████████| 67/67 [00:03<00:00, 19.35it/s, accuracy=0.429, cost=0.867]\n",
      "train minibatch loop:   0%|          | 1/267 [00:00<00:34,  7.63it/s, accuracy=1, cost=0.235]"
     ]
    },
    {
     "name": "stdout",
     "output_type": "stream",
     "text": [
      "epoch: 4, pass acc: 0.504811, current acc: 0.510415\n",
      "time taken: 38.61171865463257\n",
      "epoch: 4, training loss: 0.318086, training acc: 0.901644, valid loss: 0.787636, valid acc: 0.510415\n",
      "\n"
     ]
    },
    {
     "name": "stderr",
     "output_type": "stream",
     "text": [
      "train minibatch loop: 100%|██████████| 267/267 [00:35<00:00,  7.59it/s, accuracy=0.941, cost=0.296]\n",
      "test minibatch loop: 100%|██████████| 67/67 [00:03<00:00, 19.26it/s, accuracy=0.524, cost=0.847]\n",
      "train minibatch loop:   0%|          | 1/267 [00:00<00:35,  7.59it/s, accuracy=1, cost=0.222]"
     ]
    },
    {
     "name": "stdout",
     "output_type": "stream",
     "text": [
      "epoch: 5, pass acc: 0.510415, current acc: 0.515125\n",
      "time taken: 38.65437459945679\n",
      "epoch: 5, training loss: 0.232683, training acc: 0.948894, valid loss: 0.812796, valid acc: 0.515125\n",
      "\n"
     ]
    },
    {
     "name": "stderr",
     "output_type": "stream",
     "text": [
      "train minibatch loop: 100%|██████████| 267/267 [00:35<00:00,  7.59it/s, accuracy=0.882, cost=0.282]\n",
      "test minibatch loop: 100%|██████████| 67/67 [00:03<00:00, 19.31it/s, accuracy=0.619, cost=0.705]\n",
      "train minibatch loop:   0%|          | 1/267 [00:00<00:34,  7.64it/s, accuracy=1, cost=0.166]"
     ]
    },
    {
     "name": "stdout",
     "output_type": "stream",
     "text": [
      "epoch: 6, pass acc: 0.515125, current acc: 0.517023\n",
      "time taken: 38.637858629226685\n",
      "epoch: 6, training loss: 0.180805, training acc: 0.966495, valid loss: 0.811819, valid acc: 0.517023\n",
      "\n"
     ]
    },
    {
     "name": "stderr",
     "output_type": "stream",
     "text": [
      "train minibatch loop: 100%|██████████| 267/267 [00:35<00:00,  7.59it/s, accuracy=0.941, cost=0.191] \n",
      "test minibatch loop: 100%|██████████| 67/67 [00:03<00:00, 19.23it/s, accuracy=0.476, cost=0.74] \n",
      "train minibatch loop:   0%|          | 1/267 [00:00<00:34,  7.61it/s, accuracy=1, cost=0.14]"
     ]
    },
    {
     "name": "stdout",
     "output_type": "stream",
     "text": [
      "time taken: 38.64308047294617\n",
      "epoch: 7, training loss: 0.147704, training acc: 0.976213, valid loss: 0.831681, valid acc: 0.509723\n",
      "\n"
     ]
    },
    {
     "name": "stderr",
     "output_type": "stream",
     "text": [
      "train minibatch loop: 100%|██████████| 267/267 [00:35<00:00,  7.59it/s, accuracy=0.941, cost=0.166] \n",
      "test minibatch loop: 100%|██████████| 67/67 [00:03<00:00, 19.31it/s, accuracy=0.524, cost=0.901]\n",
      "train minibatch loop:   0%|          | 1/267 [00:00<00:34,  7.60it/s, accuracy=0.969, cost=0.132]"
     ]
    },
    {
     "name": "stdout",
     "output_type": "stream",
     "text": [
      "epoch: 8, pass acc: 0.517023, current acc: 0.522626\n",
      "time taken: 38.66772747039795\n",
      "epoch: 8, training loss: 0.128050, training acc: 0.979496, valid loss: 0.832612, valid acc: 0.522626\n",
      "\n"
     ]
    },
    {
     "name": "stderr",
     "output_type": "stream",
     "text": [
      "train minibatch loop: 100%|██████████| 267/267 [00:35<00:00,  7.59it/s, accuracy=1, cost=0.152]     \n",
      "test minibatch loop: 100%|██████████| 67/67 [00:03<00:00, 19.38it/s, accuracy=0.571, cost=0.78] \n",
      "train minibatch loop:   0%|          | 1/267 [00:00<00:34,  7.65it/s, accuracy=0.969, cost=0.114]"
     ]
    },
    {
     "name": "stdout",
     "output_type": "stream",
     "text": [
      "epoch: 9, pass acc: 0.522626, current acc: 0.523810\n",
      "time taken: 38.647319078445435\n",
      "epoch: 9, training loss: 0.111698, training acc: 0.982530, valid loss: 0.849970, valid acc: 0.523810\n",
      "\n"
     ]
    },
    {
     "name": "stderr",
     "output_type": "stream",
     "text": [
      "train minibatch loop: 100%|██████████| 267/267 [00:35<00:00,  7.59it/s, accuracy=1, cost=0.177]     \n",
      "test minibatch loop: 100%|██████████| 67/67 [00:03<00:00, 19.32it/s, accuracy=0.524, cost=0.785]\n",
      "train minibatch loop:   0%|          | 1/267 [00:00<00:34,  7.63it/s, accuracy=1, cost=0.121]"
     ]
    },
    {
     "name": "stdout",
     "output_type": "stream",
     "text": [
      "time taken: 38.64351010322571\n",
      "epoch: 10, training loss: 0.095101, training acc: 0.986165, valid loss: 0.876355, valid acc: 0.516532\n",
      "\n"
     ]
    },
    {
     "name": "stderr",
     "output_type": "stream",
     "text": [
      "train minibatch loop: 100%|██████████| 267/267 [00:35<00:00,  7.59it/s, accuracy=1, cost=0.107]     \n",
      "test minibatch loop: 100%|██████████| 67/67 [00:03<00:00, 19.32it/s, accuracy=0.571, cost=0.83] \n",
      "train minibatch loop:   0%|          | 1/267 [00:00<00:34,  7.62it/s, accuracy=1, cost=0.0913]"
     ]
    },
    {
     "name": "stdout",
     "output_type": "stream",
     "text": [
      "time taken: 38.649476051330566\n",
      "epoch: 11, training loss: 0.085374, training acc: 0.987103, valid loss: 0.896956, valid acc: 0.516777\n",
      "\n"
     ]
    },
    {
     "name": "stderr",
     "output_type": "stream",
     "text": [
      "train minibatch loop: 100%|██████████| 267/267 [00:35<00:00,  7.58it/s, accuracy=1, cost=0.102]     \n",
      "test minibatch loop: 100%|██████████| 67/67 [00:03<00:00, 19.33it/s, accuracy=0.476, cost=0.946]\n",
      "train minibatch loop:   0%|          | 1/267 [00:00<00:34,  7.61it/s, accuracy=1, cost=0.0823]"
     ]
    },
    {
     "name": "stdout",
     "output_type": "stream",
     "text": [
      "epoch: 12, pass acc: 0.523810, current acc: 0.526600\n",
      "time taken: 38.67736887931824\n",
      "epoch: 12, training loss: 0.075392, training acc: 0.989565, valid loss: 0.899732, valid acc: 0.526600\n",
      "\n"
     ]
    },
    {
     "name": "stderr",
     "output_type": "stream",
     "text": [
      "train minibatch loop: 100%|██████████| 267/267 [00:35<00:00,  7.59it/s, accuracy=1, cost=0.0774]    \n",
      "test minibatch loop: 100%|██████████| 67/67 [00:03<00:00, 19.32it/s, accuracy=0.333, cost=1.17] \n",
      "train minibatch loop:   0%|          | 1/267 [00:00<00:34,  7.63it/s, accuracy=1, cost=0.0519]"
     ]
    },
    {
     "name": "stdout",
     "output_type": "stream",
     "text": [
      "time taken: 38.65644907951355\n",
      "epoch: 13, training loss: 0.064396, training acc: 0.992027, valid loss: 0.936424, valid acc: 0.516018\n",
      "\n"
     ]
    },
    {
     "name": "stderr",
     "output_type": "stream",
     "text": [
      "train minibatch loop: 100%|██████████| 267/267 [00:35<00:00,  7.58it/s, accuracy=1, cost=0.0691]    \n",
      "test minibatch loop: 100%|██████████| 67/67 [00:03<00:00, 19.32it/s, accuracy=0.476, cost=0.895]\n",
      "train minibatch loop:   0%|          | 1/267 [00:00<00:34,  7.63it/s, accuracy=1, cost=0.0645]"
     ]
    },
    {
     "name": "stdout",
     "output_type": "stream",
     "text": [
      "time taken: 38.676095485687256\n",
      "epoch: 14, training loss: 0.054607, training acc: 0.993317, valid loss: 0.967159, valid acc: 0.513473\n",
      "\n"
     ]
    },
    {
     "name": "stderr",
     "output_type": "stream",
     "text": [
      "train minibatch loop: 100%|██████████| 267/267 [00:35<00:00,  7.58it/s, accuracy=1, cost=0.0617]    \n",
      "test minibatch loop: 100%|██████████| 67/67 [00:03<00:00, 19.32it/s, accuracy=0.524, cost=1.07] "
     ]
    },
    {
     "name": "stdout",
     "output_type": "stream",
     "text": [
      "time taken: 38.674062967300415\n",
      "epoch: 15, training loss: 0.045365, training acc: 0.994958, valid loss: 1.002821, valid acc: 0.506217\n",
      "\n",
      "break epoch:16\n",
      "\n"
     ]
    },
    {
     "name": "stderr",
     "output_type": "stream",
     "text": [
      "\n"
     ]
    }
   ],
   "source": [
    "from tqdm import tqdm\n",
    "import time\n",
    "\n",
    "EARLY_STOPPING, CURRENT_CHECKPOINT, CURRENT_ACC, EPOCH = 3, 0, 0, 0\n",
    "\n",
    "while True:\n",
    "    lasttime = time.time()\n",
    "    if CURRENT_CHECKPOINT == EARLY_STOPPING:\n",
    "        print('break epoch:%d\\n' % (EPOCH))\n",
    "        break\n",
    "\n",
    "    train_acc, train_loss, test_acc, test_loss = 0, 0, 0, 0\n",
    "    pbar = tqdm(\n",
    "        range(0, len(train_X), batch_size), desc = 'train minibatch loop'\n",
    "    )\n",
    "    for i in pbar:\n",
    "        batch_x = train_X[i : min(i + batch_size, train_X.shape[0])]\n",
    "        batch_y = train_Y[i : min(i + batch_size, train_X.shape[0])]\n",
    "        batch_memory = np.ones(([n_layer, batch_size, maxlen, d_model]))\n",
    "        acc, cost, _ = sess.run(\n",
    "            [model.accuracy, model.cost, model.optimizer],\n",
    "            feed_dict = {\n",
    "                model.Y: batch_y,\n",
    "                model.X: batch_x,\n",
    "                model.memory: batch_memory\n",
    "            },\n",
    "        )\n",
    "        assert not np.isnan(cost)\n",
    "        train_loss += cost\n",
    "        train_acc += acc\n",
    "        pbar.set_postfix(cost = cost, accuracy = acc)\n",
    "        \n",
    "    pbar = tqdm(range(0, len(test_X), batch_size), desc = 'test minibatch loop')\n",
    "    for i in pbar:\n",
    "        batch_x = test_X[i : min(i + batch_size, test_X.shape[0])]\n",
    "        batch_y = test_Y[i : min(i + batch_size, test_X.shape[0])]\n",
    "        batch_memory = np.ones(([n_layer, batch_size, maxlen, d_model]))\n",
    "        acc, cost = sess.run(\n",
    "            [model.accuracy, model.cost],\n",
    "            feed_dict = {\n",
    "                model.Y: batch_y,\n",
    "                model.X: batch_x,\n",
    "                model.memory: batch_memory\n",
    "            },\n",
    "        )\n",
    "        test_loss += cost\n",
    "        test_acc += acc\n",
    "        pbar.set_postfix(cost = cost, accuracy = acc)\n",
    "\n",
    "    train_loss /= len(train_X) / batch_size\n",
    "    train_acc /= len(train_X) / batch_size\n",
    "    test_loss /= len(test_X) / batch_size\n",
    "    test_acc /= len(test_X) / batch_size\n",
    "\n",
    "    if test_acc > CURRENT_ACC:\n",
    "        print(\n",
    "            'epoch: %d, pass acc: %f, current acc: %f'\n",
    "            % (EPOCH, CURRENT_ACC, test_acc)\n",
    "        )\n",
    "        CURRENT_ACC = test_acc\n",
    "        CURRENT_CHECKPOINT = 0\n",
    "    else:\n",
    "        CURRENT_CHECKPOINT += 1\n",
    "\n",
    "    print('time taken:', time.time() - lasttime)\n",
    "    print(\n",
    "        'epoch: %d, training loss: %f, training acc: %f, valid loss: %f, valid acc: %f\\n'\n",
    "        % (EPOCH, train_loss, train_acc, test_loss, test_acc)\n",
    "    )\n",
    "    EPOCH += 1"
   ]
  },
  {
   "cell_type": "code",
   "execution_count": 10,
   "metadata": {},
   "outputs": [
    {
     "name": "stderr",
     "output_type": "stream",
     "text": [
      "validation minibatch loop: 100%|██████████| 67/67 [00:03<00:00, 19.15it/s]\n"
     ]
    }
   ],
   "source": [
    "real_Y, predict_Y = [], []\n",
    "\n",
    "pbar = tqdm(\n",
    "    range(0, len(test_X), batch_size), desc = 'validation minibatch loop'\n",
    ")\n",
    "for i in pbar:\n",
    "    batch_x = test_X[i : min(i + batch_size, test_X.shape[0])]\n",
    "    batch_y = test_Y[i : min(i + batch_size, test_X.shape[0])]\n",
    "    batch_memory = np.ones(([n_layer, batch_size, maxlen, d_model]))\n",
    "    predict_Y += np.argmax(\n",
    "        sess.run(\n",
    "            model.logits, feed_dict = {model.X: batch_x, model.Y: batch_y,\n",
    "                                      model.memory:batch_memory}\n",
    "        ),\n",
    "        1,\n",
    "    ).tolist()\n",
    "    real_Y += batch_y"
   ]
  },
  {
   "cell_type": "code",
   "execution_count": 11,
   "metadata": {},
   "outputs": [
    {
     "name": "stdout",
     "output_type": "stream",
     "text": [
      "             precision    recall  f1-score   support\n",
      "\n",
      "   negative       0.50      0.51      0.51      1069\n",
      "   positive       0.50      0.50      0.50      1064\n",
      "\n",
      "avg / total       0.50      0.50      0.50      2133\n",
      "\n"
     ]
    }
   ],
   "source": [
    "print(metrics.classification_report(real_Y, predict_Y, target_names = trainset.target_names))"
   ]
  },
  {
   "cell_type": "code",
   "execution_count": null,
   "metadata": {},
   "outputs": [],
   "source": []
  }
 ],
 "metadata": {
  "kernelspec": {
   "display_name": "Python 3",
   "language": "python",
   "name": "python3"
  },
  "language_info": {
   "codemirror_mode": {
    "name": "ipython",
    "version": 3
   },
   "file_extension": ".py",
   "mimetype": "text/x-python",
   "name": "python",
   "nbconvert_exporter": "python",
   "pygments_lexer": "ipython3",
   "version": "3.6.8"
  }
 },
 "nbformat": 4,
 "nbformat_minor": 2
}
